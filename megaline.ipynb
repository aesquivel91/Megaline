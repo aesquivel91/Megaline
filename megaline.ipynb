{
 "cells": [
  {
   "cell_type": "markdown",
   "metadata": {},
   "source": [
    "----"
   ]
  },
  {
   "cell_type": "markdown",
   "metadata": {
    "id": "3rYiDeEH0q0f"
   },
   "source": [
    "# ¿Cuál es la mejor tarifa?\n",
    "\n",
    "Trabajas como analista para el operador de telecomunicaciones Megaline. La empresa ofrece a sus clientes dos tarifas de prepago, Surf y Ultimate. El departamento comercial quiere saber cuál de las tarifas genera más ingresos para poder ajustar el presupuesto de publicidad.\n",
    "\n",
    "Vas a realizar un análisis preliminar de las tarifas basado en una selección de clientes relativamente pequeña. Tendrás los datos de 500 clientes de Megaline: quiénes son los clientes, de dónde son, qué tarifa usan, así como la cantidad de llamadas que hicieron y los mensajes de texto que enviaron en 2018. Tu trabajo es analizar el comportamiento de los clientes y determinar qué tarifa de prepago genera más ingresos."
   ]
  },
  {
   "cell_type": "markdown",
   "metadata": {
    "id": "MQi4IPy70q0y"
   },
   "source": [
    "## Inicialización"
   ]
  },
  {
   "cell_type": "code",
   "execution_count": 1,
   "metadata": {
    "id": "MtYIuBxu0q0z"
   },
   "outputs": [],
   "source": [
    "# Cargar todas las librerías\n",
    "\n",
    "import pandas as pd         # Para manejo de datos\n",
    "import numpy as np          # Para operaciones numéricas\n",
    "import matplotlib.pyplot as plt   # Para visualización de datos\n",
    "import seaborn as sns       # Para visualizaciones más atractivas\n",
    "from scipy import stats as st   # Para pruebas estadísticas"
   ]
  },
  {
   "cell_type": "markdown",
   "metadata": {
    "id": "4ysWWC5i0q00"
   },
   "source": [
    "## Cargar datos"
   ]
  },
  {
   "cell_type": "code",
   "execution_count": 2,
   "metadata": {
    "id": "CCqPW7rS0q01"
   },
   "outputs": [],
   "source": [
    "# Carga los archivos de datos en diferentes DataFrames\n",
    "\n",
    "users = pd.read_csv('/datasets/megaline_users.csv')\n",
    "calls = pd.read_csv('/datasets/megaline_calls.csv')\n",
    "messages = pd.read_csv('/datasets/megaline_messages.csv')\n",
    "internet = pd.read_csv('/datasets/megaline_internet.csv')\n",
    "plans = pd.read_csv('/datasets/megaline_plans.csv')"
   ]
  },
  {
   "cell_type": "markdown",
   "metadata": {
    "id": "69qqoJ3r0q01"
   },
   "source": [
    "## Preparar los datos"
   ]
  },
  {
   "cell_type": "markdown",
   "metadata": {
    "id": "vUuZw80S0q01"
   },
   "source": [
    "[Los datos para este proyecto se dividen en varias tablas. Explora cada una para tener una comprensión inicial de los datos. Si es necesario, haz las correcciones requeridas en cada tabla.]"
   ]
  },
  {
   "cell_type": "code",
   "execution_count": 3,
   "metadata": {
    "scrolled": true
   },
   "outputs": [
    {
     "name": "stdout",
     "output_type": "stream",
     "text": [
      "<class 'pandas.core.frame.DataFrame'>\n",
      "RangeIndex: 500 entries, 0 to 499\n",
      "Data columns (total 8 columns):\n",
      " #   Column      Non-Null Count  Dtype \n",
      "---  ------      --------------  ----- \n",
      " 0   user_id     500 non-null    int64 \n",
      " 1   first_name  500 non-null    object\n",
      " 2   last_name   500 non-null    object\n",
      " 3   age         500 non-null    int64 \n",
      " 4   city        500 non-null    object\n",
      " 5   reg_date    500 non-null    object\n",
      " 6   plan        500 non-null    object\n",
      " 7   churn_date  34 non-null     object\n",
      "dtypes: int64(2), object(6)\n",
      "memory usage: 31.4+ KB\n",
      "None\n",
      "   user_id first_name  last_name  age                                   city  \\\n",
      "0     1000   Anamaria      Bauer   45  Atlanta-Sandy Springs-Roswell, GA MSA   \n",
      "1     1001     Mickey  Wilkerson   28        Seattle-Tacoma-Bellevue, WA MSA   \n",
      "2     1002     Carlee    Hoffman   36   Las Vegas-Henderson-Paradise, NV MSA   \n",
      "3     1003   Reynaldo    Jenkins   52                          Tulsa, OK MSA   \n",
      "4     1004    Leonila   Thompson   40        Seattle-Tacoma-Bellevue, WA MSA   \n",
      "\n",
      "     reg_date      plan churn_date  \n",
      "0  2018-12-24  ultimate        NaN  \n",
      "1  2018-08-13      surf        NaN  \n",
      "2  2018-10-21      surf        NaN  \n",
      "3  2018-01-28      surf        NaN  \n",
      "4  2018-05-23      surf        NaN  \n",
      "<class 'pandas.core.frame.DataFrame'>\n",
      "RangeIndex: 137735 entries, 0 to 137734\n",
      "Data columns (total 4 columns):\n",
      " #   Column     Non-Null Count   Dtype  \n",
      "---  ------     --------------   -----  \n",
      " 0   id         137735 non-null  object \n",
      " 1   user_id    137735 non-null  int64  \n",
      " 2   call_date  137735 non-null  object \n",
      " 3   duration   137735 non-null  float64\n",
      "dtypes: float64(1), int64(1), object(2)\n",
      "memory usage: 4.2+ MB\n",
      "None\n",
      "         id  user_id   call_date  duration\n",
      "0   1000_93     1000  2018-12-27      8.52\n",
      "1  1000_145     1000  2018-12-27     13.66\n",
      "2  1000_247     1000  2018-12-27     14.48\n",
      "3  1000_309     1000  2018-12-28      5.76\n",
      "4  1000_380     1000  2018-12-30      4.22\n",
      "<class 'pandas.core.frame.DataFrame'>\n",
      "RangeIndex: 76051 entries, 0 to 76050\n",
      "Data columns (total 3 columns):\n",
      " #   Column        Non-Null Count  Dtype \n",
      "---  ------        --------------  ----- \n",
      " 0   id            76051 non-null  object\n",
      " 1   user_id       76051 non-null  int64 \n",
      " 2   message_date  76051 non-null  object\n",
      "dtypes: int64(1), object(2)\n",
      "memory usage: 1.7+ MB\n",
      "None\n",
      "         id  user_id message_date\n",
      "0  1000_125     1000   2018-12-27\n",
      "1  1000_160     1000   2018-12-31\n",
      "2  1000_223     1000   2018-12-31\n",
      "3  1000_251     1000   2018-12-27\n",
      "4  1000_255     1000   2018-12-26\n",
      "<class 'pandas.core.frame.DataFrame'>\n",
      "RangeIndex: 104825 entries, 0 to 104824\n",
      "Data columns (total 4 columns):\n",
      " #   Column        Non-Null Count   Dtype  \n",
      "---  ------        --------------   -----  \n",
      " 0   id            104825 non-null  object \n",
      " 1   user_id       104825 non-null  int64  \n",
      " 2   session_date  104825 non-null  object \n",
      " 3   mb_used       104825 non-null  float64\n",
      "dtypes: float64(1), int64(1), object(2)\n",
      "memory usage: 3.2+ MB\n",
      "None\n",
      "         id  user_id session_date  mb_used\n",
      "0   1000_13     1000   2018-12-29    89.86\n",
      "1  1000_204     1000   2018-12-31     0.00\n",
      "2  1000_379     1000   2018-12-28   660.40\n",
      "3  1000_413     1000   2018-12-26   270.99\n",
      "4  1000_442     1000   2018-12-27   880.22\n",
      "<class 'pandas.core.frame.DataFrame'>\n",
      "RangeIndex: 2 entries, 0 to 1\n",
      "Data columns (total 8 columns):\n",
      " #   Column                 Non-Null Count  Dtype  \n",
      "---  ------                 --------------  -----  \n",
      " 0   messages_included      2 non-null      int64  \n",
      " 1   mb_per_month_included  2 non-null      int64  \n",
      " 2   minutes_included       2 non-null      int64  \n",
      " 3   usd_monthly_pay        2 non-null      int64  \n",
      " 4   usd_per_gb             2 non-null      int64  \n",
      " 5   usd_per_message        2 non-null      float64\n",
      " 6   usd_per_minute         2 non-null      float64\n",
      " 7   plan_name              2 non-null      object \n",
      "dtypes: float64(2), int64(5), object(1)\n",
      "memory usage: 256.0+ bytes\n",
      "None\n",
      "   messages_included  mb_per_month_included  minutes_included  \\\n",
      "0                 50                  15360               500   \n",
      "1               1000                  30720              3000   \n",
      "\n",
      "   usd_monthly_pay  usd_per_gb  usd_per_message  usd_per_minute plan_name  \n",
      "0               20          10             0.03            0.03      surf  \n",
      "1               70           7             0.01            0.01  ultimate  \n"
     ]
    }
   ],
   "source": [
    "# Explorar la tabla users\n",
    "print(users.info())\n",
    "print(users.head())\n",
    "\n",
    "# Explorar la tabla calls\n",
    "print(calls.info())\n",
    "print(calls.head())\n",
    "\n",
    "# Explorar la tabla messages\n",
    "print(messages.info())\n",
    "print(messages.head())\n",
    "\n",
    "# Explorar la tabla internet\n",
    "print(internet.info())\n",
    "print(internet.head())\n",
    "\n",
    "# Explorar la tabla plans\n",
    "print(plans.info())\n",
    "print(plans.head())"
   ]
  },
  {
   "cell_type": "markdown",
   "metadata": {
    "id": "ohBhimvH0q01"
   },
   "source": [
    "## Tarifas"
   ]
  },
  {
   "cell_type": "code",
   "execution_count": 4,
   "metadata": {
    "id": "GptqP3Q40q02"
   },
   "outputs": [
    {
     "name": "stdout",
     "output_type": "stream",
     "text": [
      "<class 'pandas.core.frame.DataFrame'>\n",
      "RangeIndex: 2 entries, 0 to 1\n",
      "Data columns (total 8 columns):\n",
      " #   Column                 Non-Null Count  Dtype  \n",
      "---  ------                 --------------  -----  \n",
      " 0   messages_included      2 non-null      int64  \n",
      " 1   mb_per_month_included  2 non-null      int64  \n",
      " 2   minutes_included       2 non-null      int64  \n",
      " 3   usd_monthly_pay        2 non-null      int64  \n",
      " 4   usd_per_gb             2 non-null      int64  \n",
      " 5   usd_per_message        2 non-null      float64\n",
      " 6   usd_per_minute         2 non-null      float64\n",
      " 7   plan_name              2 non-null      object \n",
      "dtypes: float64(2), int64(5), object(1)\n",
      "memory usage: 256.0+ bytes\n",
      "None\n"
     ]
    }
   ],
   "source": [
    "# Imprime la información general/resumida sobre el DataFrame de las tarifas\n",
    "\n",
    "print(plans.info())"
   ]
  },
  {
   "cell_type": "code",
   "execution_count": 5,
   "metadata": {
    "id": "64xzjwL70q02"
   },
   "outputs": [
    {
     "name": "stdout",
     "output_type": "stream",
     "text": [
      "   messages_included  mb_per_month_included  minutes_included  \\\n",
      "0                 50                  15360               500   \n",
      "1               1000                  30720              3000   \n",
      "\n",
      "   usd_monthly_pay  usd_per_gb  usd_per_message  usd_per_minute plan_name  \n",
      "0               20          10             0.03            0.03      surf  \n",
      "1               70           7             0.01            0.01  ultimate  \n"
     ]
    }
   ],
   "source": [
    "# Imprime una muestra de los datos para las tarifas\n",
    "\n",
    "print(plans.head())"
   ]
  },
  {
   "cell_type": "markdown",
   "metadata": {
    "id": "mEc_3_hs0q02"
   },
   "source": [
    "[Describe lo que ves y observas en la información general y en la muestra de datos impresa para el precio de datos anterior. ¿Hay algún problema (tipos de datos no adecuados, datos ausentes, etc.) que pudieran necesitar investigación y cambios adicionales? ¿Cómo se puede arreglar?]\n",
    "\n",
    "***Cantidad de datos***:\n",
    "\n",
    " - Solo hay 2 registros: uno para la tarifa surf y otro para ultimate.\n",
    " - No hay valores nulos (todos los campos tienen 2 valores completos).\n",
    " - Tiene 8 columnas que describen las características de cada plan:\n",
    "    - 'messages_included': SMS incluidos.\n",
    "    - 'mb_per_month_included': Megabytes incluidos por mes.\n",
    "    - 'minutes_included': Minutos de llamadas incluidos por mes.\n",
    "    - 'usd_monthly_pay': Pago mensual en dólares.\n",
    "    - 'usd_per_gb': Precio por GB adicional.\n",
    "    - 'usd_per_message': Precio por SMS adicional.\n",
    "    - 'usd_per_minute': Precio por minuto adicional.\n",
    "    - 'plan_name': Nombre del plan.\n",
    "    \n",
    "    \n",
    "***Tipos de datos***:\n",
    "\n",
    " - Enteros (int64) para la mayoría de columnas numéricas.\n",
    " - Flotantes (float64) para precios unitarios que podrían tener decimales ('usd_per_message', 'usd_per_minute').\n",
    " - Objeto (object) para 'plan_name' (nombre del plan).\n",
    " - No hay valores ausentes: todas las columnas tienen valores completos para ambas tarifas.\n",
    " \n",
    " \n",
    "**No se necesitan cambios**.\n"
   ]
  },
  {
   "cell_type": "markdown",
   "metadata": {
    "id": "R3C05i1l0q03"
   },
   "source": [
    "## Corregir datos"
   ]
  },
  {
   "cell_type": "markdown",
   "metadata": {
    "id": "bIi8StZI0q03"
   },
   "source": [
    "[Corrige los problemas obvios con los datos basándote en las observaciones iniciales.]"
   ]
  },
  {
   "cell_type": "code",
   "execution_count": 6,
   "metadata": {
    "id": "Y7SVmjGn0q03"
   },
   "outputs": [],
   "source": [
    "#No se necesitan corregir los datos"
   ]
  },
  {
   "cell_type": "markdown",
   "metadata": {
    "id": "LJir7bml0q03"
   },
   "source": [
    "## Enriquecer los datos"
   ]
  },
  {
   "cell_type": "markdown",
   "metadata": {
    "id": "eqADpCfg0q04"
   },
   "source": [
    "[Agrega factores adicionales a los datos si crees que pudieran ser útiles.]\n",
    "\n",
    "Actualmente, el campo 'mb_per_month_included' está en megabytes.\n",
    "Como después Megaline cobra por gigabytes, puede ser más práctico agregar una columna 'gb_per_month_included'."
   ]
  },
  {
   "cell_type": "code",
   "execution_count": 7,
   "metadata": {
    "id": "gfcIEuXV0q04"
   },
   "outputs": [],
   "source": [
    "# Agregar columna de gigabytes incluidos al mes\n",
    "plans['gb_per_month_included'] = plans['mb_per_month_included'] / 1024"
   ]
  },
  {
   "cell_type": "markdown",
   "metadata": {
    "id": "1n2X6WXf0q04"
   },
   "source": [
    "## Usuarios/as"
   ]
  },
  {
   "cell_type": "code",
   "execution_count": 8,
   "metadata": {
    "id": "2NgjWFqx0q05"
   },
   "outputs": [
    {
     "name": "stdout",
     "output_type": "stream",
     "text": [
      "<class 'pandas.core.frame.DataFrame'>\n",
      "RangeIndex: 500 entries, 0 to 499\n",
      "Data columns (total 8 columns):\n",
      " #   Column      Non-Null Count  Dtype \n",
      "---  ------      --------------  ----- \n",
      " 0   user_id     500 non-null    int64 \n",
      " 1   first_name  500 non-null    object\n",
      " 2   last_name   500 non-null    object\n",
      " 3   age         500 non-null    int64 \n",
      " 4   city        500 non-null    object\n",
      " 5   reg_date    500 non-null    object\n",
      " 6   plan        500 non-null    object\n",
      " 7   churn_date  34 non-null     object\n",
      "dtypes: int64(2), object(6)\n",
      "memory usage: 31.4+ KB\n",
      "None\n"
     ]
    }
   ],
   "source": [
    "# Imprime la información general/resumida sobre el DataFrame de usuarios\n",
    "print(users.info())\n"
   ]
  },
  {
   "cell_type": "code",
   "execution_count": 9,
   "metadata": {
    "id": "1IN1L9uh0q05"
   },
   "outputs": [
    {
     "name": "stdout",
     "output_type": "stream",
     "text": [
      "   user_id first_name  last_name  age                                   city  \\\n",
      "0     1000   Anamaria      Bauer   45  Atlanta-Sandy Springs-Roswell, GA MSA   \n",
      "1     1001     Mickey  Wilkerson   28        Seattle-Tacoma-Bellevue, WA MSA   \n",
      "2     1002     Carlee    Hoffman   36   Las Vegas-Henderson-Paradise, NV MSA   \n",
      "3     1003   Reynaldo    Jenkins   52                          Tulsa, OK MSA   \n",
      "4     1004    Leonila   Thompson   40        Seattle-Tacoma-Bellevue, WA MSA   \n",
      "\n",
      "     reg_date      plan churn_date  \n",
      "0  2018-12-24  ultimate        NaN  \n",
      "1  2018-08-13      surf        NaN  \n",
      "2  2018-10-21      surf        NaN  \n",
      "3  2018-01-28      surf        NaN  \n",
      "4  2018-05-23      surf        NaN  \n"
     ]
    }
   ],
   "source": [
    "# Imprime una muestra de datos para usuarios\n",
    "print(users.head())\n"
   ]
  },
  {
   "cell_type": "markdown",
   "metadata": {
    "id": "dCZoUq4f0q06"
   },
   "source": [
    "[Describe lo que ves y observas en la información general y en la muestra de datos impresa para el precio de datos anterior. ¿Hay algún problema (tipos de datos no adecuados, datos ausentes, etc.) que pudieran necesitar investigación y cambios adicionales? ¿Cómo se puede arreglar?]\n",
    "\n",
    "**Columnas y tipos de datos**:\n",
    "\n",
    "- 'user_id': int64 — Correcto, es un identificador numérico.\n",
    "- 'first_name' y 'last_name': object — Correcto, son nombres en texto.\n",
    "- 'age: int64' — Correcto, la edad es un número entero.\n",
    "- 'city': object — Correcto, ciudades como texto.\n",
    "- 'reg_date': object \n",
    "    - Problema: debería ser de tipo datetime, no objeto.\n",
    "- 'plan': object — Correcto, texto para indicar la tarifa (surf o ultimate).\n",
    "- 'churn_date': object\n",
    "    - Problema: debería ser de tipo datetime, no objeto. Además, tiene muchos valores nulos (solo 34 usuarios tienen una fecha de baja).\n",
    "\n",
    "\n",
    "**Valores ausentes**:\n",
    "\n",
    "- 'churn_date' tiene muchos valores nulos (466/500 usuarios siguen activos).\n",
    "\n",
    "    *Esto es esperado y no requiere imputación. El valor nulo simplemente significa que el usuario no se ha dado de baja*.\n",
    "\n",
    "\n",
    "**Muestra de datos (primeras filas)**:\n",
    "\n",
    "- Los valores de 'user_id', 'first_name', 'last_name', 'city', 'plan' y 'age' se ven coherentes.\n",
    "- 'reg_date' y 'churn_date' se ven bien en el formato, pero necesitan conversión de tipo.\n",
    "\n",
    "\n",
    "**Problema vs. Solución**\n",
    "- Tipo de 'reg_date': Es object, debería ser datetime64. Hay que convertirlo usando pd.to_datetime().\n",
    "- Tipo de 'churn_date': Es object, debería ser datetime64. Hay que convertirlo usando pd.to_datetime().\n",
    "- Valores nulos en 'churn_date': No es un error. No hay que corregir nada, simplemente tenerlo en cuenta.\n"
   ]
  },
  {
   "cell_type": "markdown",
   "metadata": {
    "id": "BX5FQh_I0q06"
   },
   "source": [
    "### Corregir los datos"
   ]
  },
  {
   "cell_type": "markdown",
   "metadata": {
    "id": "8OdKMwJv0q06"
   },
   "source": [
    "[Corrige los problemas obvios con los datos basándote en las observaciones iniciales.]"
   ]
  },
  {
   "cell_type": "code",
   "execution_count": 10,
   "metadata": {
    "id": "yUqX-K0C0q07"
   },
   "outputs": [],
   "source": [
    "# Convertir reg_date y churn_date a tipo datetime\n",
    "users['reg_date'] = pd.to_datetime(users['reg_date'])\n",
    "users['churn_date'] = pd.to_datetime(users['churn_date'])"
   ]
  },
  {
   "cell_type": "markdown",
   "metadata": {
    "id": "ycwuARJp0q07"
   },
   "source": [
    "### Enriquecer los datos"
   ]
  },
  {
   "cell_type": "markdown",
   "metadata": {
    "id": "96NIh4CJ0q08"
   },
   "source": [
    "[Agrega factores adicionales a los datos si crees que pudieran ser útiles.]\n",
    "\n",
    "**Crear columna 'reg_month'**:\n",
    "- Para analizar mes de registro de cada usuario. Quizás los usuarios de ciertos meses se comportan diferente.\n",
    "\n",
    "**Crear 'columna is_active'**:\n",
    "- Para saber si el usuario sigue activo (no tiene 'churn_date'). Será importante para calcular usuarios vigentes mes a mes."
   ]
  },
  {
   "cell_type": "code",
   "execution_count": 11,
   "metadata": {
    "id": "iq0AaBS90q08"
   },
   "outputs": [],
   "source": [
    "# Crear columna reg_month (mes de registro)\n",
    "users['reg_month'] = users['reg_date'].dt.month\n",
    "\n",
    "# Crear columna is_active (1 = activo, 0 = se dio de baja)\n",
    "users['is_active'] = users['churn_date'].isna().astype(int)"
   ]
  },
  {
   "cell_type": "markdown",
   "metadata": {
    "id": "o7MeKCid0q08"
   },
   "source": [
    "## Llamadas"
   ]
  },
  {
   "cell_type": "code",
   "execution_count": 12,
   "metadata": {
    "id": "6dDlnoDm0q08"
   },
   "outputs": [
    {
     "name": "stdout",
     "output_type": "stream",
     "text": [
      "<class 'pandas.core.frame.DataFrame'>\n",
      "RangeIndex: 137735 entries, 0 to 137734\n",
      "Data columns (total 4 columns):\n",
      " #   Column     Non-Null Count   Dtype  \n",
      "---  ------     --------------   -----  \n",
      " 0   id         137735 non-null  object \n",
      " 1   user_id    137735 non-null  int64  \n",
      " 2   call_date  137735 non-null  object \n",
      " 3   duration   137735 non-null  float64\n",
      "dtypes: float64(1), int64(1), object(2)\n",
      "memory usage: 4.2+ MB\n",
      "None\n"
     ]
    }
   ],
   "source": [
    "# Imprime la información general/resumida sobre el DataFrame de las llamadas\n",
    "print(calls.info())\n"
   ]
  },
  {
   "cell_type": "code",
   "execution_count": 13,
   "metadata": {
    "id": "kuh1vlNB0q09"
   },
   "outputs": [
    {
     "name": "stdout",
     "output_type": "stream",
     "text": [
      "         id  user_id   call_date  duration\n",
      "0   1000_93     1000  2018-12-27      8.52\n",
      "1  1000_145     1000  2018-12-27     13.66\n",
      "2  1000_247     1000  2018-12-27     14.48\n",
      "3  1000_309     1000  2018-12-28      5.76\n",
      "4  1000_380     1000  2018-12-30      4.22\n"
     ]
    }
   ],
   "source": [
    "# Imprime una muestra de datos para las llamadas\n",
    "print(calls.head())\n"
   ]
  },
  {
   "cell_type": "markdown",
   "metadata": {
    "id": "DOAxYJSx0q09"
   },
   "source": [
    "[Describe lo que ves y observas en la información general y en la muestra de datos impresa para el precio de datos anterior. ¿Hay algún problema (tipos de datos no adecuados, datos ausentes, etc.) que pudieran necesitar investigación y cambios adicionales? ¿Cómo se puede arreglar?]\n",
    "\n",
    "**Columnas y tipos de datos**:\n",
    "- 'id': object — Correcto (identificador único de llamada).\n",
    "- 'user_id': int64 — Correcto (identificador del usuario que hizo la llamada).\n",
    "- 'call_date': object\n",
    "    - Problema: debería ser datetime para análisis temporal.\n",
    "- 'duration': float64 — Correcto, pero recuerda que las llamadas deben ser facturadas por minutos enteros, no por decimales.\n",
    "    - Problema: Vemos duraciones como 8.52, 13.66, 14.48, 5.76, etc. Esto confirma que los minutos deben redondearse hacia arriba porque Megaline cobra el minuto completo aunque la llamada dure solo unos segundos.\n",
    "\n",
    "\n",
    "**Datos faltantes**:\n",
    "- No hay datos nulos. \n",
    "\n",
    "\n",
    "**Problema vs. Solución**:\n",
    "- 'call_date' es de tipo object. Hay que convertirlo a datetime64.\n",
    "- 'duration' tiene decimales: Debemos redondear hacia arriba usando 'np.ceil()' para reflejar cómo Megaline factura."
   ]
  },
  {
   "cell_type": "markdown",
   "metadata": {
    "id": "S7hzxmbX0q0-"
   },
   "source": [
    "### Corregir los datos"
   ]
  },
  {
   "cell_type": "markdown",
   "metadata": {
    "id": "YxWyAjD20q0-"
   },
   "source": [
    "[Corrige los problemas obvios con los datos basándote en las observaciones iniciales.]"
   ]
  },
  {
   "cell_type": "code",
   "execution_count": 14,
   "metadata": {
    "id": "S2r8xA4f0q0-"
   },
   "outputs": [],
   "source": [
    "# Convertir 'call_date' a tipo datetime\n",
    "calls['call_date'] = pd.to_datetime(calls['call_date'])\n",
    "\n",
    "# Redondear duración de cada llamada hacia arriba y convertir a entero\n",
    "calls['duration'] = np.ceil(calls['duration']).astype(int)"
   ]
  },
  {
   "cell_type": "markdown",
   "metadata": {
    "id": "KrMgTrlG0q0_"
   },
   "source": [
    "### Enriquecer los datos"
   ]
  },
  {
   "cell_type": "markdown",
   "metadata": {
    "id": "a9MbmEvE0q0_"
   },
   "source": [
    "[Agrega factores adicionales a los datos si crees que pudieran ser útiles.]\n",
    "\n",
    "Crear la columna 'month' a partir de 'call_date' para agrupar llamadas por usuario y mes y analizar el comportamiento mensual."
   ]
  },
  {
   "cell_type": "code",
   "execution_count": 15,
   "metadata": {
    "id": "iZ1avpA_0q0_"
   },
   "outputs": [],
   "source": [
    "# Crear la columna 'month' a partir de 'call_date'\n",
    "calls['month'] = calls['call_date'].dt.month"
   ]
  },
  {
   "cell_type": "markdown",
   "metadata": {
    "id": "mOUZSi180q0_"
   },
   "source": [
    "## Mensajes"
   ]
  },
  {
   "cell_type": "code",
   "execution_count": 16,
   "metadata": {
    "id": "R-bYJpdV0q1A"
   },
   "outputs": [
    {
     "name": "stdout",
     "output_type": "stream",
     "text": [
      "<class 'pandas.core.frame.DataFrame'>\n",
      "RangeIndex: 76051 entries, 0 to 76050\n",
      "Data columns (total 3 columns):\n",
      " #   Column        Non-Null Count  Dtype \n",
      "---  ------        --------------  ----- \n",
      " 0   id            76051 non-null  object\n",
      " 1   user_id       76051 non-null  int64 \n",
      " 2   message_date  76051 non-null  object\n",
      "dtypes: int64(1), object(2)\n",
      "memory usage: 1.7+ MB\n",
      "None\n"
     ]
    }
   ],
   "source": [
    "# Imprime la información general/resumida sobre el DataFrame de los mensajes\n",
    "print(messages.info())\n"
   ]
  },
  {
   "cell_type": "code",
   "execution_count": 17,
   "metadata": {
    "id": "mCEl2iGE0q1A"
   },
   "outputs": [
    {
     "name": "stdout",
     "output_type": "stream",
     "text": [
      "         id  user_id message_date\n",
      "0  1000_125     1000   2018-12-27\n",
      "1  1000_160     1000   2018-12-31\n",
      "2  1000_223     1000   2018-12-31\n",
      "3  1000_251     1000   2018-12-27\n",
      "4  1000_255     1000   2018-12-26\n"
     ]
    }
   ],
   "source": [
    "# Imprime una muestra de datos para los mensajes\n",
    "print(messages.head())\n"
   ]
  },
  {
   "cell_type": "markdown",
   "metadata": {
    "id": "04xDj7KH0q1A"
   },
   "source": [
    "[Describe lo que ves y observas en la información general y en la muestra de datos impresa para el precio de datos anterior. ¿Hay algún problema (tipos de datos no adecuados, datos ausentes, etc.) que pudieran necesitar investigación y cambios adicionales? ¿Cómo se puede arreglar?]\n",
    "\n",
    "**Columnas y tipos de datos**:\n",
    "- 'id': object — Correcto, identificador único de cada SMS.\n",
    "- 'user_id': int64 — Correcto, identificador del usuario que envió el SMS.\n",
    "- 'message_date': object\n",
    "    - Problema: debería ser de tipo datetime64 para hacer análisis temporal (mes, etc.).\n",
    "\n",
    "\n",
    "**Datos faltantes**:\n",
    "\n",
    "No hay valores nulos.\n",
    "\n",
    "**Problema vs.Solución**\n",
    "- 'message_date' es object y debería ser datetime para poder extraer mes, año, etc. Debemos convertirlo usando 'pd.to_datetime()'."
   ]
  },
  {
   "cell_type": "markdown",
   "metadata": {
    "id": "Sprfak900q1B"
   },
   "source": [
    "### Corregir los datos"
   ]
  },
  {
   "cell_type": "markdown",
   "metadata": {
    "id": "eGw7d9j10q1B"
   },
   "source": [
    "[Corrige los problemas obvios con los datos basándote en las observaciones iniciales.]"
   ]
  },
  {
   "cell_type": "code",
   "execution_count": 18,
   "metadata": {
    "id": "vsllvkoa0q1B"
   },
   "outputs": [],
   "source": [
    "# Convertir 'message_date' a tipo datetime\n",
    "messages['message_date'] = pd.to_datetime(messages['message_date'])"
   ]
  },
  {
   "cell_type": "markdown",
   "metadata": {
    "id": "HvLid7iD0q1B"
   },
   "source": [
    "### Enriquecer los datos"
   ]
  },
  {
   "cell_type": "markdown",
   "metadata": {
    "id": "8nhPFKIe0q1C"
   },
   "source": [
    "[Agrega factores adicionales a los datos si crees que pudieran ser útiles.]\n",
    "\n",
    "Agregar una columna 'month' extraída de 'message_date', para que después podamos agrupar los SMS por usuario y mes.\n",
    "\n",
    "Esto será necesario para:\n",
    "\n",
    "- Saber cuántos mensajes manda cada usuario al mes.\n",
    "- Comparar el uso de SMS contra el límite incluido en su tarifa."
   ]
  },
  {
   "cell_type": "code",
   "execution_count": 19,
   "metadata": {
    "id": "zYEXZac10q1C"
   },
   "outputs": [],
   "source": [
    "# Crear columna 'month' a partir de 'message_date'\n",
    "messages['month'] = messages['message_date'].dt.month"
   ]
  },
  {
   "cell_type": "markdown",
   "metadata": {
    "id": "bStkaxn40q1C"
   },
   "source": [
    "## Internet"
   ]
  },
  {
   "cell_type": "code",
   "execution_count": 20,
   "metadata": {
    "id": "e-Uz5qyn0q1C"
   },
   "outputs": [
    {
     "name": "stdout",
     "output_type": "stream",
     "text": [
      "<class 'pandas.core.frame.DataFrame'>\n",
      "RangeIndex: 104825 entries, 0 to 104824\n",
      "Data columns (total 4 columns):\n",
      " #   Column        Non-Null Count   Dtype  \n",
      "---  ------        --------------   -----  \n",
      " 0   id            104825 non-null  object \n",
      " 1   user_id       104825 non-null  int64  \n",
      " 2   session_date  104825 non-null  object \n",
      " 3   mb_used       104825 non-null  float64\n",
      "dtypes: float64(1), int64(1), object(2)\n",
      "memory usage: 3.2+ MB\n",
      "None\n"
     ]
    }
   ],
   "source": [
    "# Imprime la información general/resumida sobre el DataFrame de internet\n",
    "print(internet.info())\n"
   ]
  },
  {
   "cell_type": "code",
   "execution_count": 21,
   "metadata": {
    "id": "9r3x_XLw0q1C"
   },
   "outputs": [
    {
     "name": "stdout",
     "output_type": "stream",
     "text": [
      "         id  user_id session_date  mb_used\n",
      "0   1000_13     1000   2018-12-29    89.86\n",
      "1  1000_204     1000   2018-12-31     0.00\n",
      "2  1000_379     1000   2018-12-28   660.40\n",
      "3  1000_413     1000   2018-12-26   270.99\n",
      "4  1000_442     1000   2018-12-27   880.22\n"
     ]
    }
   ],
   "source": [
    "# Imprime una muestra de datos para el tráfico de internet\n",
    "print(internet.head())\n"
   ]
  },
  {
   "cell_type": "markdown",
   "metadata": {
    "id": "EzOG5ik30q1D"
   },
   "source": [
    "[Describe lo que ves y observas en la información general y en la muestra de datos impresa para el precio de datos anterior. ¿Hay algún problema (tipos de datos no adecuados, datos ausentes, etc.) que pudieran necesitar investigación y cambios adicionales? ¿Cómo se puede arreglar?]\n",
    "\n",
    "**Columnas y tipos de datos**:\n",
    "- 'id: object' — Correcto, identificador único de la sesión.\n",
    "- 'user_id': int64 — Correcto, ID del usuario.\n",
    "- 'session_date': object\n",
    "    - Problema: debería ser datetime64 para análisis temporal (por mes, etc.).\n",
    "- 'mb_used': float64 — Correcto, volumen de datos consumidos en megabytes.\n",
    "\n",
    "\n",
    "**Datos faltantes**:\n",
    "\n",
    "No hay valores nulos en ninguna columna.\n",
    "\n",
    "\n",
    "**Muestra de datos**:\n",
    "\n",
    "Se observan algunas sesiones de 0 MB (mb_used = 0.00), lo cual puede ser normal si un usuario se conectó pero no descargó datos.\n",
    "\n",
    "\n",
    "**Problema vs. Solución**\n",
    "- 'session_date' es object y debería ser datetime64 para poder agrupar por mes. Debemos convertir usando 'pd.to_datetime()'."
   ]
  },
  {
   "cell_type": "markdown",
   "metadata": {
    "id": "yA0tkPFg0q1D"
   },
   "source": [
    "### Corregir los datos"
   ]
  },
  {
   "cell_type": "markdown",
   "metadata": {
    "id": "zlZMuIEK0q1D"
   },
   "source": [
    "[Corrige los problemas obvios con los datos basándote en las observaciones iniciales.]"
   ]
  },
  {
   "cell_type": "code",
   "execution_count": 22,
   "metadata": {
    "id": "zVeanzdd0q1E"
   },
   "outputs": [],
   "source": [
    "# Convertir 'session_date' a tipo datetime\n",
    "internet['session_date'] = pd.to_datetime(internet['session_date'])"
   ]
  },
  {
   "cell_type": "markdown",
   "metadata": {
    "id": "e8_mLF4a0q1E"
   },
   "source": [
    "### Enriquecer los datos"
   ]
  },
  {
   "cell_type": "markdown",
   "metadata": {
    "id": "xhNdn2tE0q1E"
   },
   "source": [
    "[Agrega factores adicionales a los datos si crees que pudieran ser útiles.]\n",
    "\n",
    "- Crear columna 'month' a partir de 'session_date' para agrupar el tráfico por usuario y mes.\n",
    "\n",
    "- Crear columna 'gb_used' redondeando hacia arriba el consumo en GB ya que Megaline cobra el tráfico por gigabytes enteros (no por MB).\n"
   ]
  },
  {
   "cell_type": "code",
   "execution_count": 23,
   "metadata": {
    "id": "ESiYPIEK0q1E"
   },
   "outputs": [],
   "source": [
    "# Crear columna 'month' a partir de 'session_date'\n",
    "internet['month'] = internet['session_date'].dt.month\n",
    "\n",
    "# Sumar megabytes consumidos por usuario y mes\n",
    "internet_per_month = internet.groupby(['user_id', 'month']).agg({'mb_used':'sum'}).reset_index()\n",
    "\n",
    "# Crear nueva columna con tráfico mensual en GB redondeado hacia arriba\n",
    "internet_per_month['gb_per_month'] = np.ceil(internet_per_month['mb_used'] / 1024).astype(int)\n"
   ]
  },
  {
   "cell_type": "markdown",
   "metadata": {
    "id": "3UA2cqIW0q1E"
   },
   "source": [
    "## Estudiar las condiciones de las tarifas"
   ]
  },
  {
   "cell_type": "markdown",
   "metadata": {
    "id": "T86Sqltq0q1F"
   },
   "source": [
    "[Es sumamente importante entender cómo funcionan las tarifas, cómo se les cobra a los usuarios en función de su plan de suscripción. Así que te sugerimos imprimir la información de la tarifa para ver una vez más sus condiciones.]"
   ]
  },
  {
   "cell_type": "code",
   "execution_count": 24,
   "metadata": {
    "id": "i409op8p0q1F"
   },
   "outputs": [
    {
     "name": "stdout",
     "output_type": "stream",
     "text": [
      "   messages_included  mb_per_month_included  minutes_included  \\\n",
      "0                 50                  15360               500   \n",
      "1               1000                  30720              3000   \n",
      "\n",
      "   usd_monthly_pay  usd_per_gb  usd_per_message  usd_per_minute plan_name  \\\n",
      "0               20          10             0.03            0.03      surf   \n",
      "1               70           7             0.01            0.01  ultimate   \n",
      "\n",
      "   gb_per_month_included  \n",
      "0                   15.0  \n",
      "1                   30.0  \n"
     ]
    }
   ],
   "source": [
    "# Imprime las condiciones de la tarifa y asegúrate de que te quedan claras\n",
    "print(plans)\n"
   ]
  },
  {
   "cell_type": "markdown",
   "metadata": {
    "id": "hMR1tP5d0q1F"
   },
   "source": [
    "## Agregar datos por usuario\n",
    "\n",
    "[Ahora que los datos están limpios, agrega los datos por usuario y por periodo para que solo haya un registro por usuario y por periodo. Esto facilitará mucho el análisis posterior.]"
   ]
  },
  {
   "cell_type": "code",
   "execution_count": 25,
   "metadata": {
    "id": "A332cedB0q1G"
   },
   "outputs": [],
   "source": [
    "# Calcula el número de llamadas hechas por cada usuario al mes. Guarda el resultado.\n",
    "calls_per_month = calls.groupby(['user_id', 'month']).agg({'id':'count'}).rename(columns={'id':'calls_per_month'})\n"
   ]
  },
  {
   "cell_type": "code",
   "execution_count": 26,
   "metadata": {
    "id": "aw2cmuql0q1G"
   },
   "outputs": [],
   "source": [
    "# Calcula la cantidad de minutos usados por cada usuario al mes. Guarda el resultado.\n",
    "minutes_per_month = calls.groupby(['user_id', 'month']).agg({'duration':'sum'}).rename(columns={'duration':'minutes_per_month'})\n"
   ]
  },
  {
   "cell_type": "code",
   "execution_count": 27,
   "metadata": {
    "id": "CcQvNHn60q1G"
   },
   "outputs": [],
   "source": [
    "# Calcula el número de mensajes enviados por cada usuario al mes. Guarda el resultado.\n",
    "messages_per_month = messages.groupby(['user_id', 'month']).agg({'id':'count'}).rename(columns={'id':'messages_per_month'})\n"
   ]
  },
  {
   "cell_type": "code",
   "execution_count": 28,
   "metadata": {
    "id": "H1AqN2eG0q1H"
   },
   "outputs": [],
   "source": [
    "# Calcula el volumen del tráfico de Internet usado por cada usuario al mes. Guarda el resultado.\n",
    "\n",
    "# Agrupar megabytes usados por usuario y mes\n",
    "internet_per_month = internet.groupby(['user_id', 'month']).agg({'mb_used': 'sum'}).reset_index()\n",
    "\n",
    "internet_per_month['gb_per_month'] = np.ceil(internet_per_month['mb_used'] / 1024).astype(int)\n",
    "\n"
   ]
  },
  {
   "cell_type": "markdown",
   "metadata": {
    "id": "VDfYXnj80q1H"
   },
   "source": [
    "[Junta los datos agregados en un DataFrame para que haya un registro que represente lo que consumió un usuario único en un mes determinado.]"
   ]
  },
  {
   "cell_type": "code",
   "execution_count": 29,
   "metadata": {
    "id": "FW99ykyf0q1H"
   },
   "outputs": [],
   "source": [
    "# Fusiona los datos de llamadas, minutos, mensajes e Internet con base en user_id y month\n",
    "# Fusionar usando 'merge' por columnas 'user_id' y 'month'\n",
    "user_monthly = calls_per_month.merge(minutes_per_month, on=['user_id', 'month'], how='outer') \\\n",
    "                              .merge(messages_per_month, on=['user_id', 'month'], how='outer') \\\n",
    "                              .merge(internet_per_month[['user_id', 'month', 'gb_per_month']], on=['user_id', 'month'], how='outer')\n",
    "\n",
    "# Rellenar valores nulos con 0\n",
    "user_monthly = user_monthly.fillna(0)\n",
    "\n"
   ]
  },
  {
   "cell_type": "code",
   "execution_count": 30,
   "metadata": {
    "id": "0dNOXHag0q1H"
   },
   "outputs": [],
   "source": [
    "# Añade la información de la tarifa\n",
    "\n",
    "# Unir la información de la tarifa\n",
    "user_monthly = user_monthly.merge(users[['user_id', 'plan']], on='user_id', how='left')\n",
    "\n",
    "# Unir con la tabla de planes para conocer límites y precios\n",
    "user_monthly = user_monthly.merge(plans, left_on='plan', right_on='plan_name', how='left')\n"
   ]
  },
  {
   "cell_type": "markdown",
   "metadata": {
    "id": "1IwGo4wg0q1I"
   },
   "source": [
    "[Calcula los ingresos mensuales por usuario (resta el límite del paquete gratuito del número total de llamadas, mensajes de texto y datos; multiplica el resultado por el valor del plan de llamadas; añade la tarifa mensual en función del plan de llamadas). Nota: Dadas las condiciones del plan, ¡esto podría no ser tan trivial como un par de líneas! Así que no pasa nada si dedicas algo de tiempo a ello.]"
   ]
  },
  {
   "cell_type": "code",
   "execution_count": 31,
   "metadata": {
    "id": "5FGCf_c60q1I"
   },
   "outputs": [],
   "source": [
    "# Calcula el ingreso mensual para cada usuario\n",
    "# Cálculo del consumo que supera lo incluido en el plan\n",
    "user_monthly['minutes_over'] = (user_monthly['minutes_per_month'] - user_monthly['minutes_included']).clip(lower=0)\n",
    "user_monthly['messages_over'] = (user_monthly['messages_per_month'] - user_monthly['messages_included']).clip(lower=0)\n",
    "user_monthly['gb_over'] = (user_monthly['gb_per_month'] - (user_monthly['mb_per_month_included'] / 1024)).clip(lower=0)\n",
    "\n",
    "# Cálculo de ingresos por exceso\n",
    "user_monthly['revenue'] = (\n",
    "    user_monthly['usd_monthly_pay'] +\n",
    "    user_monthly['minutes_over'] * user_monthly['usd_per_minute'] +\n",
    "    user_monthly['messages_over'] * user_monthly['usd_per_message'] +\n",
    "    user_monthly['gb_over'] * user_monthly['usd_per_gb']\n",
    ")\n"
   ]
  },
  {
   "cell_type": "code",
   "execution_count": 32,
   "metadata": {},
   "outputs": [
    {
     "name": "stdout",
     "output_type": "stream",
     "text": [
      "Index(['user_id', 'month', 'calls_per_month', 'minutes_per_month',\n",
      "       'messages_per_month', 'gb_per_month', 'plan', 'messages_included',\n",
      "       'mb_per_month_included', 'minutes_included', 'usd_monthly_pay',\n",
      "       'usd_per_gb', 'usd_per_message', 'usd_per_minute', 'plan_name',\n",
      "       'gb_per_month_included', 'minutes_over', 'messages_over', 'gb_over',\n",
      "       'revenue'],\n",
      "      dtype='object')\n",
      "user_id                  0\n",
      "month                    0\n",
      "calls_per_month          0\n",
      "minutes_per_month        0\n",
      "messages_per_month       0\n",
      "gb_per_month             0\n",
      "plan                     0\n",
      "messages_included        0\n",
      "mb_per_month_included    0\n",
      "minutes_included         0\n",
      "usd_monthly_pay          0\n",
      "usd_per_gb               0\n",
      "usd_per_message          0\n",
      "usd_per_minute           0\n",
      "plan_name                0\n",
      "gb_per_month_included    0\n",
      "minutes_over             0\n",
      "messages_over            0\n",
      "gb_over                  0\n",
      "revenue                  0\n",
      "dtype: int64\n",
      "   user_id  month  calls_per_month  minutes_per_month  messages_per_month  \\\n",
      "0     1000     12             16.0              124.0                11.0   \n",
      "1     1001      8             27.0              182.0                30.0   \n",
      "2     1001      9             49.0              315.0                44.0   \n",
      "3     1001     10             65.0              393.0                53.0   \n",
      "4     1001     11             64.0              426.0                36.0   \n",
      "\n",
      "   gb_per_month      plan  messages_included  mb_per_month_included  \\\n",
      "0           2.0  ultimate               1000                  30720   \n",
      "1           7.0      surf                 50                  15360   \n",
      "2          14.0      surf                 50                  15360   \n",
      "3          22.0      surf                 50                  15360   \n",
      "4          19.0      surf                 50                  15360   \n",
      "\n",
      "   minutes_included  usd_monthly_pay  usd_per_gb  usd_per_message  \\\n",
      "0              3000               70           7             0.01   \n",
      "1               500               20          10             0.03   \n",
      "2               500               20          10             0.03   \n",
      "3               500               20          10             0.03   \n",
      "4               500               20          10             0.03   \n",
      "\n",
      "   usd_per_minute plan_name  gb_per_month_included  minutes_over  \\\n",
      "0            0.01  ultimate                   30.0           0.0   \n",
      "1            0.03      surf                   15.0           0.0   \n",
      "2            0.03      surf                   15.0           0.0   \n",
      "3            0.03      surf                   15.0           0.0   \n",
      "4            0.03      surf                   15.0           0.0   \n",
      "\n",
      "   messages_over  gb_over  revenue  \n",
      "0            0.0      0.0    70.00  \n",
      "1            0.0      0.0    20.00  \n",
      "2            0.0      0.0    20.00  \n",
      "3            3.0      7.0    90.09  \n",
      "4            0.0      4.0    60.00  \n",
      "user_id                    int64\n",
      "month                      int64\n",
      "calls_per_month          float64\n",
      "minutes_per_month        float64\n",
      "messages_per_month       float64\n",
      "gb_per_month             float64\n",
      "plan                      object\n",
      "messages_included          int64\n",
      "mb_per_month_included      int64\n",
      "minutes_included           int64\n",
      "usd_monthly_pay            int64\n",
      "usd_per_gb                 int64\n",
      "usd_per_message          float64\n",
      "usd_per_minute           float64\n",
      "plan_name                 object\n",
      "gb_per_month_included    float64\n",
      "minutes_over             float64\n",
      "messages_over            float64\n",
      "gb_over                  float64\n",
      "revenue                  float64\n",
      "dtype: object\n",
      "Revenue negativo: 0\n",
      "Minutes_per_month negativos: 0\n",
      "Messages_per_month negativos: 0\n",
      "Gb_per_month negativos: 0\n",
      "      user_id  month  calls_per_month  minutes_per_month  messages_per_month  \\\n",
      "1722     1379     12            144.0             1103.0               126.0   \n",
      "2266     1121     12              0.0                0.0                97.0   \n",
      "1328     1292      8             42.0              323.0                 0.0   \n",
      "1332     1292     12             28.0              144.0                 0.0   \n",
      "1099     1240      8            161.0             1095.0                15.0   \n",
      "\n",
      "      gb_per_month  plan  messages_included  mb_per_month_included  \\\n",
      "1722          70.0  surf                 50                  15360   \n",
      "2266          66.0  surf                 50                  15360   \n",
      "1328          51.0  surf                 50                  15360   \n",
      "1332          51.0  surf                 50                  15360   \n",
      "1099          49.0  surf                 50                  15360   \n",
      "\n",
      "      minutes_included  usd_monthly_pay  usd_per_gb  usd_per_message  \\\n",
      "1722               500               20          10             0.03   \n",
      "2266               500               20          10             0.03   \n",
      "1328               500               20          10             0.03   \n",
      "1332               500               20          10             0.03   \n",
      "1099               500               20          10             0.03   \n",
      "\n",
      "      usd_per_minute plan_name  gb_per_month_included  minutes_over  \\\n",
      "1722            0.03      surf                   15.0         603.0   \n",
      "2266            0.03      surf                   15.0           0.0   \n",
      "1328            0.03      surf                   15.0           0.0   \n",
      "1332            0.03      surf                   15.0           0.0   \n",
      "1099            0.03      surf                   15.0         595.0   \n",
      "\n",
      "      messages_over  gb_over  revenue  \n",
      "1722           76.0     55.0   590.37  \n",
      "2266           47.0     51.0   531.41  \n",
      "1328            0.0     36.0   380.00  \n",
      "1332            0.0     36.0   380.00  \n",
      "1099            0.0     34.0   377.85  \n"
     ]
    }
   ],
   "source": [
    "# Verificar que tenemos todas las columnas principales\n",
    "print(user_monthly.columns)\n",
    "\n",
    "# Verificar que no haya valores nulos inesperados (excepto en columnas relacionadas a tarifas si algún usuario no está vinculado)\n",
    "print(user_monthly.isna().sum())\n",
    "\n",
    "# Verificar algunos ejemplos concretos: visualizar las primeras filas\n",
    "print(user_monthly.head())\n",
    "\n",
    "# Verificar que los tipos de datos sean correctos\n",
    "print(user_monthly.dtypes)\n",
    "\n",
    "# Verificar que la columna revenue no sea negativa\n",
    "print('Revenue negativo:', (user_monthly['revenue'] < 0).sum())\n",
    "\n",
    "# Verificar que no haya minutos, SMS o GB negativos (antes de facturar)\n",
    "print('Minutes_per_month negativos:', (user_monthly['minutes_per_month'] < 0).sum())\n",
    "print('Messages_per_month negativos:', (user_monthly['messages_per_month'] < 0).sum())\n",
    "print('Gb_per_month negativos:', (user_monthly['gb_per_month'] < 0).sum())\n",
    "\n",
    "# Verificar usuarios que más consumen (top 5)\n",
    "print(user_monthly.sort_values('revenue', ascending=False).head())\n"
   ]
  },
  {
   "cell_type": "markdown",
   "metadata": {
    "id": "-jtyHzJb0q1I"
   },
   "source": [
    "## Estudia el comportamiento de usuario"
   ]
  },
  {
   "cell_type": "markdown",
   "metadata": {
    "id": "AxU3Y0N70q1J"
   },
   "source": [
    "[Calcula algunas estadísticas descriptivas para los datos agregados y fusionados que nos sean útiles y que muestren un panorama general captado por los datos. Dibuja gráficos útiles para facilitar la comprensión. Dado que la tarea principal es comparar las tarifas y decidir cuál es más rentable, las estadísticas y gráficas deben calcularse por tarifa.]\n",
    "\n",
    "[En los comentarios hallarás pistas relevantes para las llamadas, pero no las hay para los mensajes e Internet. Sin embargo, el principio del estudio estadístico que se aplica para ellos es el mismo que para las llamadas.]"
   ]
  },
  {
   "cell_type": "markdown",
   "metadata": {
    "id": "vtW4CJEe0q1J"
   },
   "source": [
    "### Llamadas"
   ]
  },
  {
   "cell_type": "code",
   "execution_count": 33,
   "metadata": {
    "id": "Jf5v5--k0q1J"
   },
   "outputs": [
    {
     "data": {
      "image/png": "[encoded data removed]",
      "text/plain": [
       "<Figure size 1200x600 with 1 Axes>"
      ]
     },
     "metadata": {},
     "output_type": "display_data"
    }
   ],
   "source": [
    "# Compara la duración promedio de llamadas por cada plan y por cada mes. Traza un gráfico de barras para visualizarla.\n",
    "calls_by_month_plan = user_monthly.groupby(['plan', 'month'])['minutes_per_month'].mean().unstack()\n",
    "\n",
    "# Gráfico de barras\n",
    "calls_by_month_plan.T.plot(kind='bar', figsize=(12,6))\n",
    "plt.title('Duración promedio de llamadas por mes y por plan')\n",
    "plt.xlabel('Mes')\n",
    "plt.ylabel('Minutos promedio')\n",
    "plt.legend(title='Plan')\n",
    "plt.show()"
   ]
  },
  {
   "cell_type": "code",
   "execution_count": 34,
   "metadata": {
    "id": "QoLqW1S_0q1J"
   },
   "outputs": [
    {
     "data": {
      "image/png": "[encoded data removed]",
      "text/plain": [
       "<Figure size 1200x600 with 1 Axes>"
      ]
     },
     "metadata": {},
     "output_type": "display_data"
    }
   ],
   "source": [
    "# Compara el número de minutos mensuales que necesitan los usuarios de cada plan. Traza un histograma.\n",
    "plt.figure(figsize=(12,6))\n",
    "sns.histplot(data=user_monthly, x='minutes_per_month', hue='plan', kde=True, bins=30)\n",
    "plt.title('Distribución de minutos usados al mes por plan')\n",
    "plt.xlabel('Minutos por mes')\n",
    "plt.ylabel('Cantidad de usuarios')\n",
    "plt.show()\n"
   ]
  },
  {
   "cell_type": "markdown",
   "metadata": {
    "id": "bLS9T8OH0q1K"
   },
   "source": [
    "[Calcula la media y la variable de la duración de las llamadas para averiguar si los usuarios de los distintos planes se comportan de forma diferente al realizar sus llamadas.]"
   ]
  },
  {
   "cell_type": "code",
   "execution_count": 35,
   "metadata": {
    "id": "oSndbAnt0q1K"
   },
   "outputs": [
    {
     "name": "stdout",
     "output_type": "stream",
     "text": [
      "                mean           var\n",
      "plan                              \n",
      "surf      428.749523  54968.279461\n",
      "ultimate  430.450000  57844.464812\n"
     ]
    }
   ],
   "source": [
    "# Calcula la media y la varianza de la duración mensual de llamadas.\n",
    "print(user_monthly.groupby('plan')['minutes_per_month'].agg(['mean', 'var']))\n"
   ]
  },
  {
   "cell_type": "code",
   "execution_count": 36,
   "metadata": {
    "id": "nZzoRUKc0q1K"
   },
   "outputs": [
    {
     "data": {
      "image/png": "[encoded data removed]",
      "text/plain": [
       "<Figure size 1000x600 with 1 Axes>"
      ]
     },
     "metadata": {},
     "output_type": "display_data"
    }
   ],
   "source": [
    "# Traza un diagrama de caja para visualizar la distribución de la duración mensual de llamadas\n",
    "plt.figure(figsize=(10,6))\n",
    "sns.boxplot(x='plan', y='minutes_per_month', data=user_monthly)\n",
    "plt.title('Distribución de minutos mensuales por plan')\n",
    "plt.xlabel('Plan')\n",
    "plt.ylabel('Minutos usados al mes')\n",
    "plt.show()\n"
   ]
  },
  {
   "cell_type": "markdown",
   "metadata": {
    "id": "r627zBO50q1K"
   },
   "source": [
    "[Elabora las conclusiones sobre el comportamiento de los usuarios con respecto a las llamadas. ¿Su comportamiento varía en función del plan?]\n",
    "\n",
    " 1. **Duración promedio de llamadas por mes y por plan.**\n",
    "\n",
    "- Ambos planes (Surf y Ultimate) muestran un aumento progresivo en el promedio de minutos usados a medida que avanza el año.\n",
    "- Ultimate tiende a tener ligeramente más minutos promedio durante 2 meses de la primera mitad del año (febrero y mayo) y 4 meses durante la segunda mitad (agosto, septiembre, octubre y noviembre).\n",
    "- Surf alcanza o incluso supera ligeramente a Ultimate en el resto de los meses.\n",
    "- La diferencia de uso entre planes no es muy grande mes a mes, pero existe cierta variabilidad con excepción de Febrero en la que la diferencia si es mas amplia.\n",
    "\n",
    "**Conclusión**:\n",
    "El uso promedio de minutos es similar entre usuarios de Surf y Ultimate, aunque con ligeras diferencias por temporada.\n",
    "\n",
    "\n",
    " 2. **Distribución de minutos usados al mes por plan.**\n",
    "\n",
    "- Ultimate tiene una distribución más concentrada entre los 300 a 600 minutos al mes.\n",
    "- Surf tiene una distribución más dispersa, con más usuarios usando entre 200 a 600 minutos pero también extendiéndose más allá (700+, incluso hasta 1400 minutos).\n",
    "- Hay más usuarios de Surf que presentan uso extremo (muchos minutos), lo cual genera más variabilidad.\n",
    "\n",
    "**Conclusión**:\n",
    "- Los usuarios de Surf tienden a tener un comportamiento más variable en minutos usados.\n",
    "- Ultimate tiene usuarios más concentrados en un rango medio de minutos.\n",
    "\n",
    " 3. **Distribución de minutos mensuales por plan.**\n",
    " \n",
    "\n",
    "- Ambos planes tienen:\n",
    "    - Una mediana (línea central) de minutos similar, alrededor de 400–450 minutos por mes.\n",
    "    - Surf muestra más usuarios que usan muchísimo más minutos, hasta 1400.\n",
    "    - El tamaño de la caja es similar, pero Surf parece tener una dispersión un poco mayor.\n",
    "    \n",
    "**Conclusión**:\n",
    "La dispersión de minutos es mayor en Surf, donde algunos usuarios usan muchos más minutos que los usuarios promedio.\n",
    "Ultimate es más predecible en su uso."
   ]
  },
  {
   "cell_type": "markdown",
   "metadata": {
    "id": "8idKy8Wh0q1L"
   },
   "source": [
    "### Mensajes"
   ]
  },
  {
   "cell_type": "code",
   "execution_count": 37,
   "metadata": {
    "id": "NXLxiTit0q1L"
   },
   "outputs": [
    {
     "data": {
      "image/png": "[encoded data removed]",
      "text/plain": [
       "<Figure size 1200x600 with 1 Axes>"
      ]
     },
     "metadata": {},
     "output_type": "display_data"
    }
   ],
   "source": [
    "# Comprara el número de mensajes que tienden a enviar cada mes los usuarios de cada plan\n",
    "# Histograma de mensajes enviados\n",
    "plt.figure(figsize=(12,6))\n",
    "sns.histplot(data=user_monthly, x='messages_per_month', hue='plan', kde=True, bins=30)\n",
    "plt.title('Distribución de mensajes enviados al mes por plan')\n",
    "plt.xlabel('Mensajes por mes')\n",
    "plt.ylabel('Cantidad de usuarios')\n",
    "plt.show()\n"
   ]
  },
  {
   "cell_type": "code",
   "execution_count": 38,
   "metadata": {
    "id": "GRI_R7xF0q1L"
   },
   "outputs": [
    {
     "name": "stdout",
     "output_type": "stream",
     "text": [
      "               mean          var\n",
      "plan                            \n",
      "surf      31.159568  1126.724522\n",
      "ultimate  37.551389  1208.756744\n"
     ]
    }
   ],
   "source": [
    "# Media y varianza de mensajes\n",
    "print(user_monthly.groupby('plan')['messages_per_month'].agg(['mean', 'var']))"
   ]
  },
  {
   "cell_type": "code",
   "execution_count": 39,
   "metadata": {
    "id": "dtFwCGAp0q1M"
   },
   "outputs": [
    {
     "data": {
      "image/png": "[encoded data removed]",
      "text/plain": [
       "<Figure size 1000x600 with 1 Axes>"
      ]
     },
     "metadata": {},
     "output_type": "display_data"
    }
   ],
   "source": [
    "# Diagrama de caja de mensajes enviados por mes\n",
    "plt.figure(figsize=(10,6))\n",
    "sns.boxplot(x='plan', y='messages_per_month', data=user_monthly)\n",
    "plt.title('Distribución de mensajes enviados por mes según el plan')\n",
    "plt.xlabel('Plan')\n",
    "plt.ylabel('Mensajes enviados al mes')\n",
    "plt.show()\n"
   ]
  },
  {
   "cell_type": "markdown",
   "metadata": {
    "id": "390SSL480q1M"
   },
   "source": [
    "[Elabora las conclusiones sobre el comportamiento de los usuarios con respecto a los mensajes. ¿Su comportamiento varía en función del plan?]\n",
    "\n",
    "1. **Distribución de mensajes enviados al mes por plan**.\n",
    "\n",
    "- La mayoría de los usuarios de ambos planes (Surf y Ultimate) envían muy pocos mensajes al mes (de 0 a 50).\n",
    "- Después de 50 mensajes, el número de usuarios disminuye drásticamente en ambos planes.\n",
    "- La diferencia entre la cantidad de usuarios entre Ultimate y surf se disminuye considerablemente en los rangos superiores.\n",
    "- Ambos planes tienen una distribución asimétrica a la derecha (sesgada hacia mayores valores).\n",
    "\n",
    "**Conclusión**:\n",
    "La mayoría de los usuarios no usan mucho los SMS.\n",
    "Ultimate tiene usuarios que tienden a enviar ligeramente más mensajes, pero en general el uso de SMS es bajo en ambos planes.\n",
    "\n",
    "2. **Distribución de mensajes enviados por mes según el plan.**\n",
    "\n",
    "- Las medianas de mensajes enviados en ambos planes son bajas (cerca de 20-30 SMS al mes).\n",
    "- Ultimate tiene una mediana más alta que Surf, confirmando que en promedio envían más mensajes.\n",
    "- Hay más usuarios que envían más de 100–150 mensajes al mes (especialmente visibles en Surf).\n",
    "\n",
    "\n",
    "**Conclusión**:\n",
    "Ultimate tiene un uso promedio de mensajes más alto, pero Surf presenta mayor cantidad de usuarios que envían muchísimos mensajes en algunos meses."
   ]
  },
  {
   "cell_type": "markdown",
   "metadata": {
    "id": "42YSypXz0q1M"
   },
   "source": [
    "### Internet"
   ]
  },
  {
   "cell_type": "code",
   "execution_count": 40,
   "metadata": {
    "id": "lSuKPtjh0q1M"
   },
   "outputs": [
    {
     "data": {
      "image/png": "[encoded data removed]",
      "text/plain": [
       "<Figure size 1200x600 with 1 Axes>"
      ]
     },
     "metadata": {},
     "output_type": "display_data"
    }
   ],
   "source": [
    "# Histograma de consumo de internet\n",
    "plt.figure(figsize=(12,6))\n",
    "sns.histplot(data=user_monthly, x='gb_per_month', hue='plan', kde=True, bins=30)\n",
    "plt.title('Distribución de gigabytes usados al mes por plan')\n",
    "plt.xlabel('Gigabytes por mes')\n",
    "plt.ylabel('Cantidad de usuarios')\n",
    "plt.show()\n"
   ]
  },
  {
   "cell_type": "code",
   "execution_count": 41,
   "metadata": {
    "id": "wnh8jYXi0q1N"
   },
   "outputs": [
    {
     "name": "stdout",
     "output_type": "stream",
     "text": [
      "               mean       var\n",
      "plan                         \n",
      "surf      16.670693  61.58360\n",
      "ultimate  17.306944  58.83055\n"
     ]
    }
   ],
   "source": [
    "# Media y varianza de GB usados\n",
    "print(user_monthly.groupby('plan')['gb_per_month'].agg(['mean', 'var']))"
   ]
  },
  {
   "cell_type": "code",
   "execution_count": 42,
   "metadata": {
    "id": "5VlyJ9ry0q1N"
   },
   "outputs": [
    {
     "data": {
      "image/png": "[encoded data removed]",
      "text/plain": [
       "<Figure size 1000x600 with 1 Axes>"
      ]
     },
     "metadata": {},
     "output_type": "display_data"
    }
   ],
   "source": [
    "# Diagrama de caja del consumo de internet por mes\n",
    "plt.figure(figsize=(10,6))\n",
    "sns.boxplot(x='plan', y='gb_per_month', data=user_monthly)\n",
    "plt.title('Distribución de gigabytes usados por mes según el plan')\n",
    "plt.xlabel('Plan')\n",
    "plt.ylabel('Gigabytes usados al mes')\n",
    "plt.show()\n"
   ]
  },
  {
   "cell_type": "markdown",
   "metadata": {
    "id": "UN9zwuMP0q1N"
   },
   "source": [
    "[Elabora las conclusiones sobre cómo los usuarios tienden a consumir el tráfico de Internet. ¿Su comportamiento varía en función del plan?]\n",
    "\n",
    "1. **Distribución de gigabytes usados al mes por plan.**\n",
    "\n",
    "- Ambos planes (Surf y Ultimate) tienen un comportamiento similar en cuanto al uso de datos.\n",
    "- El pico de consumo en ambos planes está alrededor de los 17-20 GB por mes.\n",
    "- El plan Surf tiene una distribución más dispersa:\n",
    "    - Usuarios de Surf tienden a consumir un rango más amplio de datos, algunos llegando a más de 60–70 GB al mes.\n",
    "- El plan Ultimate tiene una concentración de usuarios que consumen entre 10 y 25 GB, mostrando un patrón más uniforme y estable.\n",
    "\n",
    "**Conclusión**:\n",
    "- Surf tiende a una mayor variabilidad en el consumo de datos.\n",
    "- Ultimate muestra un comportamiento más controlado y concentrado.\n",
    "\n",
    "\n",
    "2. **Distribución de gigabytes usados por mes según el plan.**\n",
    "\n",
    "- Las medianas son bastante similares en ambos planes (alrededor de 18 GB/mes).\n",
    "- Ambos planes presentan una dispersión similar, sin embargo, Surf muestra más usuarios con consumos extremos.\n",
    "- En Surf, hay usuarios que superan los 60–70 GB al mes.\n",
    "- En Ultimate, el consumo máximo de la mayoría de usuarios se mantiene debajo de 50 GB.\n",
    "\n",
    "**Conclusión**:\n",
    "- Aunque la mediana es similar, Surf exhibe mayor dispersión y más extremos de consumo.\n",
    "- Ultimate ofrece un patrón de uso más controlado y predecible."
   ]
  },
  {
   "cell_type": "markdown",
   "metadata": {
    "id": "tCijq3260q1N"
   },
   "source": [
    "## Ingreso"
   ]
  },
  {
   "cell_type": "markdown",
   "metadata": {
    "id": "9nq5IAcy0q1O"
   },
   "source": [
    "[Del mismo modo que has estudiado el comportamiento de los usuarios, describe estadísticamente los ingresos de los planes.]"
   ]
  },
  {
   "cell_type": "code",
   "execution_count": 43,
   "metadata": {
    "id": "tz-dq_V00q1O"
   },
   "outputs": [
    {
     "data": {
      "image/png": "[encoded data removed]",
      "text/plain": [
       "<Figure size 1200x600 with 1 Axes>"
      ]
     },
     "metadata": {},
     "output_type": "display_data"
    }
   ],
   "source": [
    "# Histograma de ingresos\n",
    "plt.figure(figsize=(12,6))\n",
    "sns.histplot(data=user_monthly, x='revenue', hue='plan', kde=True, bins=30)\n",
    "plt.title('Distribución de ingresos mensuales por plan')\n",
    "plt.xlabel('Ingreso mensual ($)')\n",
    "plt.ylabel('Cantidad de usuarios')\n",
    "plt.show()\n"
   ]
  },
  {
   "cell_type": "code",
   "execution_count": 44,
   "metadata": {
    "id": "0Y1v8ZUz0q1P"
   },
   "outputs": [
    {
     "name": "stdout",
     "output_type": "stream",
     "text": [
      "               mean          var        std\n",
      "plan                                       \n",
      "surf      60.706408  3067.835152  55.388042\n",
      "ultimate  72.313889   129.848486  11.395108\n"
     ]
    }
   ],
   "source": [
    "# Media, varianza, desviación estándar de ingresos por plan\n",
    "print(user_monthly.groupby('plan')['revenue'].agg(['mean', 'var', 'std']))"
   ]
  },
  {
   "cell_type": "code",
   "execution_count": 45,
   "metadata": {
    "id": "bYmwxyVh0q1P"
   },
   "outputs": [
    {
     "data": {
      "image/png": "[encoded data removed]",
      "text/plain": [
       "<Figure size 1000x600 with 1 Axes>"
      ]
     },
     "metadata": {},
     "output_type": "display_data"
    }
   ],
   "source": [
    "# Boxplot de ingresos\n",
    "plt.figure(figsize=(10,6))\n",
    "sns.boxplot(x='plan', y='revenue', data=user_monthly)\n",
    "plt.title('Distribución de ingresos mensuales según el plan')\n",
    "plt.xlabel('Plan')\n",
    "plt.ylabel('Ingreso mensual ($)')\n",
    "plt.show()\n"
   ]
  },
  {
   "cell_type": "markdown",
   "metadata": {
    "id": "KAFidcXZ0q1P"
   },
   "source": [
    "[Elabora las conclusiones sobre cómo difiere el ingreso entre los planes.]\n",
    "\n",
    "1. **Distribución de ingresos mensuales por plan.**\n",
    "\n",
    "- Ultimate muestra una distribución concentrada entre los 70 y 80 dólares por mes.\n",
    "- Surf tiene una distribución mucho más dispersa, con:\n",
    "    - Muchos usuarios pagando entre 50 y 120 dólares.\n",
    "    - Algunos usuarios superando incluso los 400–600 dólares de ingresos en un solo mes.\n",
    "- Se observa que Ultimate tiene menos dispersión, mientras que Surf tiene muchos usuarios generando ingresos muy altos por excedentes.\n",
    "\n",
    "**Conclusión**:\n",
    "Ultimate genera ingresos más estables y previsibles, mientras que Surf puede generar ingresos potencialmente mucho mayores en casos de consumo extremo.\n",
    "\n",
    "\n",
    "2. **Distribución de ingresos mensuales según el plan.**\n",
    "\n",
    "- Mediana de ingresos:\n",
    "    - La mediana de Ultimate está alrededor de 72 dólares al mes.\n",
    "    - La mediana de Surf es inferior con alrededor de 60 dólares al mes.\n",
    "- Rangos:\n",
    "    - Ultimate muestra un rango estrecho y controlado, con pocos valores extremos.\n",
    "    - Surf muestra una gran dispersión y muchos usuarios generando entre 300 y hasta 600 dólares en ingresos.\n",
    "\n",
    "**Conclusión**:\n",
    "\n",
    "- Ultimate: Baja dispersión, ingresos agrupados estrechamente. Menor riesgo, ingresos consistentes.\n",
    "- Surf: Alta dispersión, ingresos variables con potencial de ganancias mucho mayores. Mayor riesgo, pero también posibilidad de ingresos muy altos.\n"
   ]
  },
  {
   "cell_type": "markdown",
   "metadata": {
    "id": "ajJ7VKeI0q1Q"
   },
   "source": [
    "## Prueba las hipótesis estadísticas"
   ]
  },
  {
   "cell_type": "markdown",
   "metadata": {
    "id": "AdXAZ-yL0q1Q"
   },
   "source": [
    "[Prueba la hipótesis de que son diferentes los ingresos promedio procedentes de los usuarios de los planes de llamada Ultimate y Surf.]"
   ]
  },
  {
   "cell_type": "markdown",
   "metadata": {
    "id": "IQwa_hsh0q1Q"
   },
   "source": [
    "[Elabora las hipótesis nula y alternativa, escoge la prueba estadística, determina el valor alfa.]\n",
    "\n",
    "1. **Formular hipótesis**:\n",
    "\n",
    "- *Hipótesis nula*: El ingreso promedio de los usuarios de Ultimate y Surf es igual.\n",
    "- *Hipótesis alternativa*: El ingreso promedio de los usuarios de Ultimate y Surf es diferente.\n",
    "\n",
    "\n",
    "2. **Escoger prueba estadística**:\n",
    "- Usaremos una prueba t para dos muestras independientes (scipy.stats.ttest_ind).\n",
    "- Asumimos varianzas desiguales (equal_var=False).\n",
    "\n",
    "\n",
    "3. **Nivel de significancia**:\n",
    "- Establecemos α=0.05."
   ]
  },
  {
   "cell_type": "code",
   "execution_count": 46,
   "metadata": {
    "id": "nFoPNlPq0q1R"
   },
   "outputs": [
    {
     "name": "stdout",
     "output_type": "stream",
     "text": [
      "Valor p: 3.1703905481135734e-15\n",
      "Rechazamos la hipótesis nula: el ingreso promedio es diferente.\n"
     ]
    }
   ],
   "source": [
    "# Prueba las hipótesis\n",
    "\n",
    "# Crear dos muestras\n",
    "surf_revenue = user_monthly[user_monthly['plan'] == 'surf']['revenue']\n",
    "ultimate_revenue = user_monthly[user_monthly['plan'] == 'ultimate']['revenue']\n",
    "\n",
    "# Prueba de hipótesis (t-test)\n",
    "alpha = 0.05\n",
    "results = st.ttest_ind(surf_revenue, ultimate_revenue, equal_var=False)\n",
    "\n",
    "print('Valor p:', results.pvalue)\n",
    "\n",
    "# Interpretación\n",
    "if results.pvalue < alpha:\n",
    "    print('Rechazamos la hipótesis nula: el ingreso promedio es diferente.')\n",
    "else:\n",
    "    print('No podemos rechazar la hipótesis nula: no hay diferencias significativas en el ingreso promedio.')\n"
   ]
  },
  {
   "cell_type": "markdown",
   "metadata": {
    "id": "tCcAruM60q1R"
   },
   "source": [
    "[Prueba la hipótesis de que el ingreso promedio de los usuarios del área NY-NJ es diferente al de los usuarios de otras regiones.]"
   ]
  },
  {
   "cell_type": "markdown",
   "metadata": {
    "id": "LsBgitqj0q1R"
   },
   "source": [
    "[Elabora las hipótesis nula y alternativa, escoge la prueba estadística, determina el valor alfa.]\n",
    "\n",
    "1. **Formular hipótesis**:\n",
    "\n",
    "- Hipótesis nula: El ingreso promedio de usuarios de NY-NJ es igual al de otras regiones.\n",
    "- Hipótesis alternativa: El ingreso promedio de usuarios de NY-NJ es diferente al de otras regiones.\n",
    "\n",
    "\n",
    "2. **Escoger prueba estadística**:\n",
    "- Una prueba t para dos muestras independientes.\n",
    "\n",
    "\n",
    "3. **Nivel de significancia**:\n",
    "- Establecemos α=0.05."
   ]
  },
  {
   "cell_type": "code",
   "execution_count": 47,
   "metadata": {
    "id": "Cqcj7wrZ0q1S"
   },
   "outputs": [
    {
     "name": "stdout",
     "output_type": "stream",
     "text": [
      "Valor p: 0.5908330350763833\n",
      "No podemos rechazar la hipótesis nula: no hay diferencias significativas en el ingreso promedio entre regiones.\n"
     ]
    },
    {
     "data": {
      "image/png": "[encoded data removed]",
      "text/plain": [
       "<Figure size 1000x600 with 1 Axes>"
      ]
     },
     "metadata": {},
     "output_type": "display_data"
    },
    {
     "data": {
      "image/png": "[encoded data removed]",
      "text/plain": [
       "<Figure size 1200x600 with 1 Axes>"
      ]
     },
     "metadata": {},
     "output_type": "display_data"
    }
   ],
   "source": [
    "# Prueba las hipótesis\n",
    "\n",
    "# Crear grupos de usuarios\n",
    "ny_nj_users = users[users['city'].str.contains('New York|NY|NJ', case=False, na=False)]['user_id']\n",
    "# Asegurar que tenemos solo registros de usuarios válidos\n",
    "user_monthly['region'] = user_monthly['user_id'].isin(ny_nj_users).map({True: 'NY-NJ', False: 'Other'})\n",
    "\n",
    "# Crear dos muestras\n",
    "revenue_ny_nj = user_monthly[user_monthly['region'] == 'NY-NJ']['revenue']\n",
    "revenue_other = user_monthly[user_monthly['region'] == 'Other']['revenue']\n",
    "\n",
    "# Prueba de hipótesis (t-test)\n",
    "results_region = st.ttest_ind(revenue_ny_nj, revenue_other, equal_var=False)\n",
    "\n",
    "print('Valor p:', results_region.pvalue)\n",
    "\n",
    "# Interpretación\n",
    "if results_region.pvalue < alpha:\n",
    "    print('Rechazamos la hipótesis nula: el ingreso promedio de NY-NJ es diferente al de otras regiones.')\n",
    "else:\n",
    "    print('No podemos rechazar la hipótesis nula: no hay diferencias significativas en el ingreso promedio entre regiones.')\n",
    "\n",
    "# Boxplot de ingresos por región\n",
    "plt.figure(figsize=(10,6))\n",
    "sns.boxplot(x='region', y='revenue', data=user_monthly)\n",
    "plt.title('Distribución de ingresos mensuales por región (NY-NJ vs Other)')\n",
    "plt.xlabel('Región')\n",
    "plt.ylabel('Ingreso mensual ($)')\n",
    "plt.show()\n",
    "\n",
    "# Histograma de ingresos por región\n",
    "plt.figure(figsize=(12,6))\n",
    "sns.histplot(data=user_monthly, x='revenue', hue='region', kde=True, bins=30)\n",
    "plt.title('Distribución de ingresos mensuales - NY-NJ vs Other')\n",
    "plt.xlabel('Ingreso mensual ($)')\n",
    "plt.ylabel('Cantidad de usuarios')\n",
    "plt.show()\n",
    "\n"
   ]
  },
  {
   "cell_type": "code",
   "execution_count": 48,
   "metadata": {},
   "outputs": [
    {
     "data": {
      "image/png": "[encoded data removed]",
      "text/plain": [
       "<Figure size 800x600 with 1 Axes>"
      ]
     },
     "metadata": {},
     "output_type": "display_data"
    },
    {
     "data": {
      "image/png": "[encoded data removed]",
      "text/plain": [
       "<Figure size 800x600 with 1 Axes>"
      ]
     },
     "metadata": {},
     "output_type": "display_data"
    }
   ],
   "source": [
    "import matplotlib.pyplot as plt\n",
    "import seaborn as sns\n",
    "\n",
    "plt.figure(figsize=(8,6))\n",
    "sns.boxplot(x='plan', y='revenue', data=user_monthly)\n",
    "plt.title('Distribución de ingresos mensuales por plan')\n",
    "plt.xlabel('Plan')\n",
    "plt.ylabel('Ingreso mensual ($)')\n",
    "plt.grid(True)\n",
    "plt.show()\n",
    "\n",
    "revenue_stats = user_monthly.groupby('plan')['revenue'].agg(['mean', 'var']).reset_index()\n",
    "\n",
    "plt.figure(figsize=(8,6))\n",
    "plt.scatter(revenue_stats['var'], revenue_stats['mean'], s=200)\n",
    "\n",
    "for i, plan in enumerate(revenue_stats['plan']):\n",
    "    plt.text(revenue_stats['var'][i]+5000, revenue_stats['mean'][i], plan, fontsize=12)\n",
    "\n",
    "plt.title('Riesgo vs Retorno de Ingresos por Plan')\n",
    "plt.xlabel('Riesgo (Varianza del ingreso)')\n",
    "plt.ylabel('Retorno (Ingreso promedio)')\n",
    "plt.grid(True)\n",
    "plt.show()\n",
    "\n"
   ]
  },
  {
   "cell_type": "markdown",
   "metadata": {},
   "source": [
    "**Estos gráficos muestran**:\n",
    "\n",
    "- Ultimate: ingresos más concentrados y predecibles. Bajo riesgo, retorno estable.\n",
    "- Surf: ingresos muy dispersos, con posibilidad de ingresos extremos altos. Alto riesgo pero potencial de alto retorno (mayor ingreso promedio)."
   ]
  },
  {
   "cell_type": "markdown",
   "metadata": {
    "id": "bbTR8UQO0q1T"
   },
   "source": [
    "## Conclusión general\n",
    "\n",
    "[En esta sección final, enumera tus conclusiones importantes. Asegúrate de que estas abarquen todas las decisiones (suposiciones) importantes que adoptaste y que determinaron la forma elegida para procesar y analizar los datos.]\n",
    "\n",
    "Durante el análisis de 500 usuarios de Megaline, comparamos los planes Surf y Ultimate en cuanto a comportamiento de uso (llamadas, mensajes, internet) e ingresos generados.\n",
    "\n",
    "Encontramos que, aunque ambos planes presentan consumos similares en llamadas e internet, Ultimate garantiza ingresos más estables mientras que Surf muestra mayor variabilidad, con algunos usuarios generando ingresos significativamente más altos debido al uso excedente.\n",
    "\n",
    "Las pruebas estadísticas confirmaron que los ingresos promedio de Surf y Ultimate son significativamente diferentes, No existen diferencias significativas en el ingreso promedio entre usuarios de NY-NJ y otras regiones.\n",
    "\n",
    "**Conclusión clave**:\n",
    "- El plan Ultimate es ideal para maximizar ingresos constantes y controlar riesgos.\n",
    "- El plan Surf ofrece una oportunidad para mayor rentabilidad si se gestiona correctamente el consumo adicional de usuarios.\n",
    "\n",
    "Se recomienda mantener y fortalecer Ultimate como plan de estabilidad, y optimizar campañas para fomentar consumo adicional en usuarios de Surf.\n",
    "\n",
    "***Decisiones y Supuestos Clave***\n",
    "\n",
    "- **Conversión de datos**:\n",
    "Se redondearon correctamente los minutos, gigabytes y mensajes según las condiciones del servicio.\n",
    "\n",
    "- **Agrupación de datos**:\n",
    "Se consolidaron las actividades (llamadas, SMS, Internet) por usuario y mes, calculando el consumo mensual total.\n",
    "\n",
    "- **Enriquecimiento**:\n",
    "Se calcularon minutos, mensajes y gigabytes excedentes para facturar correctamente el costo extra de cada usuario.\n",
    "\n",
    "Corrección de cálculo de consumo de internet (redondeo tras agrupar).\n",
    "\n",
    "- **Comparación entre planes y regiones**:\n",
    "Se compararon las tarifas Surf vs Ultimate y también ingresos entre usuarios de NY-NJ y otras regiones.\n",
    "\n",
    "- **Nivel de significancia**:\n",
    "Se estableció un nivel crítico de 0.05 para todas las pruebas estadísticas.\n",
    "\n",
    "\n",
    "***Conclusiones del Comportamiento de Usuario***\n",
    "\n",
    "- **Llamadas**:\n",
    "    - Ultimate: mediana mensual de aproximadamente 420 minutos.\n",
    "    - Surf: mediana cercana, pero con una dispersión mayor; algunos usuarios exceden 1400 minutos.\n",
    "Surf muestra mayor dispersión en minutos usados.\n",
    "\n",
    "- **Mensajes**:\n",
    "    - Uso general bajo en ambos planes.\n",
    "        - Ultimate: media de 37.5 SMS/mes.\n",
    "        - Surf: media de 31.2 SMS/mes.\n",
    "Ultimate tiene un leve uso mayor de SMS, pero en general los mensajes no son el principal canal.\n",
    "\n",
    "- **Internet**:\n",
    "    - Ambos planes tienen un consumo promedio de datos similar (18–19 GB/mes tras corregir MB → GB).\n",
    "    - Surf presenta más usuarios fuera de la media (≥ 40 GB mensuales).\n",
    "\n",
    "\n",
    "***Conclusiones de Ingresos***\n",
    "\n",
    "Ultimate genera ingresos más estables y predecibles.\n",
    "Surf presenta mayor variabilidad en ingresos, con usuarios que en algunos casos generan muchísimos ingresos por excedentes."
   ]
  }
 ],
 "metadata": {
  "ExecuteTimeLog": [
   {
    "duration": 828,
    "start_time": "2021-11-16T09:21:11.304Z"
   },
   {
    "duration": 893,
    "start_time": "2021-11-16T09:21:17.728Z"
   },
   {
    "duration": 1150,
    "start_time": "2021-11-16T09:21:29.568Z"
   },
   {
    "duration": 3,
    "start_time": "2021-11-16T09:24:14.495Z"
   },
   {
    "duration": 120,
    "start_time": "2021-11-16T09:24:46.630Z"
   },
   {
    "duration": 3,
    "start_time": "2021-11-16T09:28:27.882Z"
   },
   {
    "duration": 4,
    "start_time": "2021-11-16T09:29:54.281Z"
   },
   {
    "duration": 3,
    "start_time": "2021-11-16T09:30:45.936Z"
   },
   {
    "duration": 4,
    "start_time": "2021-11-16T09:31:06.300Z"
   },
   {
    "duration": 113,
    "start_time": "2021-11-16T09:31:37.208Z"
   },
   {
    "duration": 143,
    "start_time": "2021-11-16T09:31:48.656Z"
   },
   {
    "duration": 98,
    "start_time": "2021-11-16T09:31:55.678Z"
   },
   {
    "duration": 3,
    "start_time": "2021-11-16T09:32:08.535Z"
   },
   {
    "duration": 111,
    "start_time": "2021-11-16T09:32:10.120Z"
   },
   {
    "duration": 3,
    "start_time": "2021-11-16T09:32:15.732Z"
   },
   {
    "duration": 4,
    "start_time": "2021-11-16T09:32:29.423Z"
   },
   {
    "duration": 3,
    "start_time": "2021-11-16T10:03:03.074Z"
   },
   {
    "duration": 3,
    "start_time": "2021-11-16T10:10:01.288Z"
   },
   {
    "duration": 3,
    "start_time": "2021-11-16T10:10:46.923Z"
   },
   {
    "duration": 121,
    "start_time": "2021-11-16T10:37:46.494Z"
   },
   {
    "duration": 125,
    "start_time": "2021-11-16T10:38:20.632Z"
   },
   {
    "duration": 112,
    "start_time": "2021-11-16T10:46:53.001Z"
   },
   {
    "duration": 110,
    "start_time": "2021-11-16T10:48:25.775Z"
   },
   {
    "duration": 3,
    "start_time": "2021-11-16T10:50:18.720Z"
   },
   {
    "duration": 4,
    "start_time": "2021-11-16T10:50:37.649Z"
   },
   {
    "duration": 2,
    "start_time": "2021-11-16T10:50:51.884Z"
   },
   {
    "duration": 3,
    "start_time": "2021-11-16T10:51:56.237Z"
   },
   {
    "duration": 101,
    "start_time": "2021-11-16T10:53:13.791Z"
   },
   {
    "duration": 3,
    "start_time": "2021-11-16T10:55:59.186Z"
   },
   {
    "duration": 3,
    "start_time": "2021-11-16T10:56:10.751Z"
   },
   {
    "duration": 3,
    "start_time": "2021-11-16T10:56:49.038Z"
   },
   {
    "duration": 3,
    "start_time": "2021-11-16T10:56:49.174Z"
   },
   {
    "duration": 4,
    "start_time": "2021-11-16T10:56:49.414Z"
   },
   {
    "duration": 3,
    "start_time": "2021-11-16T10:56:49.680Z"
   },
   {
    "duration": 3,
    "start_time": "2021-11-16T10:56:50.370Z"
   },
   {
    "duration": 114,
    "start_time": "2021-11-16T10:59:34.518Z"
   },
   {
    "duration": 3,
    "start_time": "2021-11-16T11:01:41.201Z"
   },
   {
    "duration": 116,
    "start_time": "2021-11-16T11:01:48.754Z"
   },
   {
    "duration": 3,
    "start_time": "2021-11-16T11:02:16.685Z"
   },
   {
    "duration": 3,
    "start_time": "2021-11-16T11:02:19.479Z"
   },
   {
    "duration": 3,
    "start_time": "2021-11-16T11:02:47.067Z"
   },
   {
    "duration": 3,
    "start_time": "2021-11-16T11:02:49.353Z"
   },
   {
    "duration": 3,
    "start_time": "2021-11-16T11:03:07.835Z"
   },
   {
    "duration": 3,
    "start_time": "2021-11-16T11:03:07.953Z"
   },
   {
    "duration": 112,
    "start_time": "2021-11-16T11:07:52.072Z"
   },
   {
    "duration": 187,
    "start_time": "2021-11-16T11:09:23.468Z"
   },
   {
    "duration": 4,
    "start_time": "2021-11-16T11:10:01.455Z"
   },
   {
    "duration": 3,
    "start_time": "2021-11-16T11:10:05.069Z"
   },
   {
    "duration": 4,
    "start_time": "2021-11-16T11:10:13.376Z"
   },
   {
    "duration": 3,
    "start_time": "2021-11-16T11:10:14.434Z"
   },
   {
    "duration": 3,
    "start_time": "2021-11-16T11:10:22.853Z"
   },
   {
    "duration": 4,
    "start_time": "2021-11-16T11:27:29.279Z"
   },
   {
    "duration": 4,
    "start_time": "2021-11-16T11:29:08.919Z"
   },
   {
    "duration": 118,
    "start_time": "2021-11-16T11:29:46.703Z"
   },
   {
    "duration": 437,
    "start_time": "2021-11-16T11:36:02.181Z"
   },
   {
    "duration": 157,
    "start_time": "2021-11-16T11:36:14.388Z"
   },
   {
    "duration": 207,
    "start_time": "2021-11-16T11:47:15.898Z"
   },
   {
    "duration": 3,
    "start_time": "2021-11-16T11:53:52.092Z"
   },
   {
    "duration": 3,
    "start_time": "2021-11-16T11:53:52.236Z"
   },
   {
    "duration": 3,
    "start_time": "2021-11-16T11:59:12.005Z"
   },
   {
    "duration": 112,
    "start_time": "2021-11-16T12:00:33.446Z"
   },
   {
    "duration": 3,
    "start_time": "2021-11-16T12:02:14.453Z"
   },
   {
    "duration": 3,
    "start_time": "2021-11-16T12:02:39.512Z"
   },
   {
    "duration": 106,
    "start_time": "2021-11-16T12:03:03.460Z"
   },
   {
    "duration": 3,
    "start_time": "2021-11-17T20:37:21.139Z"
   },
   {
    "duration": 3,
    "start_time": "2021-11-17T20:37:22.229Z"
   },
   {
    "duration": 3,
    "start_time": "2021-11-17T20:38:38.806Z"
   },
   {
    "duration": 3,
    "start_time": "2021-11-17T20:38:41.958Z"
   },
   {
    "duration": 3,
    "start_time": "2021-11-17T20:43:46.551Z"
   },
   {
    "duration": 4,
    "start_time": "2021-11-17T20:58:21.835Z"
   },
   {
    "duration": 3,
    "start_time": "2021-11-17T20:59:21.872Z"
   },
   {
    "duration": 4,
    "start_time": "2021-11-17T20:59:45.352Z"
   },
   {
    "duration": 4,
    "start_time": "2021-11-17T20:59:49.646Z"
   },
   {
    "duration": 159,
    "start_time": "2021-11-17T21:02:26.949Z"
   },
   {
    "duration": 3,
    "start_time": "2021-11-17T21:03:53.461Z"
   },
   {
    "duration": 3,
    "start_time": "2021-11-17T21:03:53.694Z"
   },
   {
    "duration": 3,
    "start_time": "2021-11-17T21:05:28.145Z"
   },
   {
    "duration": 116,
    "start_time": "2021-11-17T21:05:57.787Z"
   },
   {
    "duration": 3,
    "start_time": "2021-11-17T21:06:37.993Z"
   },
   {
    "duration": 3,
    "start_time": "2021-11-17T21:06:38.261Z"
   },
   {
    "duration": 3,
    "start_time": "2021-11-17T21:11:54.358Z"
   },
   {
    "duration": 3,
    "start_time": "2021-11-17T21:12:43.846Z"
   },
   {
    "duration": 4,
    "start_time": "2021-11-17T21:13:08.773Z"
   },
   {
    "duration": 3,
    "start_time": "2021-11-17T21:14:44.441Z"
   },
   {
    "duration": 3,
    "start_time": "2021-11-17T21:15:42.059Z"
   },
   {
    "duration": 4,
    "start_time": "2021-11-17T21:15:51.995Z"
   },
   {
    "duration": 3,
    "start_time": "2021-11-17T21:15:53.923Z"
   },
   {
    "duration": 3,
    "start_time": "2021-11-17T21:15:55.282Z"
   },
   {
    "duration": 3,
    "start_time": "2021-11-17T21:16:28.492Z"
   },
   {
    "duration": 3,
    "start_time": "2021-11-17T21:16:32.603Z"
   },
   {
    "duration": 3,
    "start_time": "2021-11-17T21:17:06.941Z"
   },
   {
    "duration": 98,
    "start_time": "2021-11-17T21:18:05.733Z"
   },
   {
    "duration": 4,
    "start_time": "2021-11-17T21:21:35.255Z"
   },
   {
    "duration": 3,
    "start_time": "2021-11-17T21:21:37.804Z"
   },
   {
    "duration": 4,
    "start_time": "2021-11-17T21:23:06.071Z"
   },
   {
    "duration": 3,
    "start_time": "2021-11-17T21:23:24.799Z"
   },
   {
    "duration": 3,
    "start_time": "2021-11-17T21:23:32.591Z"
   },
   {
    "duration": 98,
    "start_time": "2021-11-17T21:28:31.559Z"
   },
   {
    "duration": 3,
    "start_time": "2021-11-17T21:28:45.448Z"
   },
   {
    "duration": 3,
    "start_time": "2021-11-17T21:29:17.303Z"
   },
   {
    "duration": 3,
    "start_time": "2021-11-17T21:29:29.617Z"
   },
   {
    "duration": 3,
    "start_time": "2021-11-17T21:29:32.681Z"
   },
   {
    "duration": 3,
    "start_time": "2021-11-17T21:36:11.474Z"
   },
   {
    "duration": 3,
    "start_time": "2021-11-17T21:36:14.791Z"
   },
   {
    "duration": 3,
    "start_time": "2021-11-17T21:36:53.943Z"
   },
   {
    "duration": 3,
    "start_time": "2021-11-17T21:36:56.165Z"
   },
   {
    "duration": 4,
    "start_time": "2021-11-17T21:37:16.590Z"
   },
   {
    "duration": 3,
    "start_time": "2021-11-17T21:37:22.702Z"
   },
   {
    "duration": 4,
    "start_time": "2021-11-17T21:38:03.479Z"
   },
   {
    "duration": 3,
    "start_time": "2021-11-17T21:38:08.601Z"
   },
   {
    "duration": 3,
    "start_time": "2021-11-17T21:38:12.928Z"
   },
   {
    "duration": 3,
    "start_time": "2021-11-17T21:38:48.896Z"
   },
   {
    "duration": 2,
    "start_time": "2021-11-17T21:38:49.171Z"
   },
   {
    "duration": 4,
    "start_time": "2021-11-17T21:39:57.889Z"
   },
   {
    "duration": 3,
    "start_time": "2021-11-17T21:39:58.057Z"
   },
   {
    "duration": 3,
    "start_time": "2021-11-17T21:41:20.108Z"
   },
   {
    "duration": 3,
    "start_time": "2021-11-17T21:41:20.629Z"
   },
   {
    "duration": 3,
    "start_time": "2021-11-17T21:42:49.136Z"
   },
   {
    "duration": 3,
    "start_time": "2021-11-17T21:43:15.137Z"
   },
   {
    "duration": 4,
    "start_time": "2021-11-17T21:43:16.766Z"
   },
   {
    "duration": 4,
    "start_time": "2021-11-17T21:43:31.711Z"
   },
   {
    "duration": 3,
    "start_time": "2021-11-17T21:43:36.312Z"
   },
   {
    "duration": 4,
    "start_time": "2021-11-17T21:45:08.825Z"
   },
   {
    "duration": 4,
    "start_time": "2021-11-17T21:45:10.119Z"
   },
   {
    "duration": 4,
    "start_time": "2021-11-17T21:45:13.748Z"
   },
   {
    "duration": 3,
    "start_time": "2021-11-17T21:45:22.219Z"
   },
   {
    "duration": 3,
    "start_time": "2021-11-17T21:45:33.412Z"
   },
   {
    "duration": 2,
    "start_time": "2021-11-17T21:46:01.885Z"
   },
   {
    "duration": 3,
    "start_time": "2021-11-17T21:46:03.628Z"
   },
   {
    "duration": 107,
    "start_time": "2021-11-17T21:47:32.512Z"
   },
   {
    "duration": 103,
    "start_time": "2021-11-17T21:50:36.243Z"
   },
   {
    "duration": 3,
    "start_time": "2021-11-18T06:28:31.440Z"
   },
   {
    "duration": 3,
    "start_time": "2021-11-18T06:29:00.168Z"
   },
   {
    "duration": 3,
    "start_time": "2021-11-18T06:31:27.008Z"
   },
   {
    "duration": 2,
    "start_time": "2021-11-18T06:35:34.288Z"
   },
   {
    "duration": 2,
    "start_time": "2021-11-18T06:38:04.527Z"
   },
   {
    "duration": 2684,
    "start_time": "2025-04-27T06:40:50.089Z"
   },
   {
    "duration": 608,
    "start_time": "2025-04-27T06:42:05.086Z"
   },
   {
    "duration": 335,
    "start_time": "2025-04-27T06:44:16.435Z"
   },
   {
    "duration": 167,
    "start_time": "2025-04-27T06:44:23.487Z"
   },
   {
    "duration": 55,
    "start_time": "2025-04-27T06:45:38.440Z"
   },
   {
    "duration": 67,
    "start_time": "2025-04-27T06:49:40.301Z"
   },
   {
    "duration": 10,
    "start_time": "2025-04-27T06:52:50.821Z"
   },
   {
    "duration": 6,
    "start_time": "2025-04-27T06:53:21.650Z"
   },
   {
    "duration": 862,
    "start_time": "2025-04-27T06:53:44.460Z"
   },
   {
    "duration": 165,
    "start_time": "2025-04-27T06:53:45.324Z"
   },
   {
    "duration": 53,
    "start_time": "2025-04-27T06:53:45.491Z"
   },
   {
    "duration": 9,
    "start_time": "2025-04-27T06:53:45.545Z"
   },
   {
    "duration": 6,
    "start_time": "2025-04-27T06:53:45.556Z"
   },
   {
    "duration": 89,
    "start_time": "2025-04-27T06:53:45.564Z"
   },
   {
    "duration": 2,
    "start_time": "2025-04-27T06:53:45.655Z"
   },
   {
    "duration": 2,
    "start_time": "2025-04-27T06:53:45.660Z"
   },
   {
    "duration": 3,
    "start_time": "2025-04-27T06:53:45.664Z"
   },
   {
    "duration": 3,
    "start_time": "2025-04-27T06:53:45.668Z"
   },
   {
    "duration": 4,
    "start_time": "2025-04-27T06:53:45.672Z"
   },
   {
    "duration": 4,
    "start_time": "2025-04-27T06:53:45.677Z"
   },
   {
    "duration": 4,
    "start_time": "2025-04-27T06:53:45.682Z"
   },
   {
    "duration": 2,
    "start_time": "2025-04-27T06:53:45.689Z"
   },
   {
    "duration": 39,
    "start_time": "2025-04-27T06:53:45.692Z"
   },
   {
    "duration": 3,
    "start_time": "2025-04-27T06:53:45.733Z"
   },
   {
    "duration": 3,
    "start_time": "2025-04-27T06:53:45.737Z"
   },
   {
    "duration": 3,
    "start_time": "2025-04-27T06:53:45.742Z"
   },
   {
    "duration": 3,
    "start_time": "2025-04-27T06:53:45.747Z"
   },
   {
    "duration": 3,
    "start_time": "2025-04-27T06:53:45.751Z"
   },
   {
    "duration": 4,
    "start_time": "2025-04-27T06:53:45.756Z"
   },
   {
    "duration": 3,
    "start_time": "2025-04-27T06:53:45.762Z"
   },
   {
    "duration": 2,
    "start_time": "2025-04-27T06:53:45.768Z"
   },
   {
    "duration": 3,
    "start_time": "2025-04-27T06:53:45.772Z"
   },
   {
    "duration": 2,
    "start_time": "2025-04-27T06:53:45.778Z"
   },
   {
    "duration": 3,
    "start_time": "2025-04-27T06:53:45.782Z"
   },
   {
    "duration": 45,
    "start_time": "2025-04-27T06:53:45.787Z"
   },
   {
    "duration": 4,
    "start_time": "2025-04-27T06:53:45.834Z"
   },
   {
    "duration": 3,
    "start_time": "2025-04-27T06:53:45.840Z"
   },
   {
    "duration": 3,
    "start_time": "2025-04-27T06:53:45.845Z"
   },
   {
    "duration": 2,
    "start_time": "2025-04-27T07:10:50.076Z"
   },
   {
    "duration": 163,
    "start_time": "2025-04-27T07:16:27.680Z"
   },
   {
    "duration": 860,
    "start_time": "2025-04-27T07:17:16.460Z"
   },
   {
    "duration": 161,
    "start_time": "2025-04-27T07:17:19.819Z"
   },
   {
    "duration": 53,
    "start_time": "2025-04-27T07:17:23.217Z"
   },
   {
    "duration": 9,
    "start_time": "2025-04-27T07:17:28.775Z"
   },
   {
    "duration": 5,
    "start_time": "2025-04-27T07:17:34.144Z"
   },
   {
    "duration": 2,
    "start_time": "2025-04-27T07:17:38.559Z"
   },
   {
    "duration": 10,
    "start_time": "2025-04-27T07:17:41.507Z"
   },
   {
    "duration": 9,
    "start_time": "2025-04-27T07:19:00.161Z"
   },
   {
    "duration": 5,
    "start_time": "2025-04-27T07:19:03.578Z"
   },
   {
    "duration": 5,
    "start_time": "2025-04-27T07:30:05.604Z"
   },
   {
    "duration": 5,
    "start_time": "2025-04-27T07:31:09.356Z"
   },
   {
    "duration": 17,
    "start_time": "2025-04-27T07:33:19.108Z"
   },
   {
    "duration": 5,
    "start_time": "2025-04-27T07:33:21.911Z"
   },
   {
    "duration": 18,
    "start_time": "2025-04-27T07:38:17.770Z"
   },
   {
    "duration": 8,
    "start_time": "2025-04-27T07:39:09.167Z"
   },
   {
    "duration": 15,
    "start_time": "2025-04-27T07:40:33.669Z"
   },
   {
    "duration": 5,
    "start_time": "2025-04-27T07:40:36.715Z"
   },
   {
    "duration": 12,
    "start_time": "2025-04-27T07:43:48.731Z"
   },
   {
    "duration": 6,
    "start_time": "2025-04-27T07:44:58.537Z"
   },
   {
    "duration": 14,
    "start_time": "2025-04-27T07:45:35.405Z"
   },
   {
    "duration": 5,
    "start_time": "2025-04-27T07:45:38.482Z"
   },
   {
    "duration": 5,
    "start_time": "2025-04-27T07:48:01.170Z"
   },
   {
    "duration": 13,
    "start_time": "2025-04-27T07:48:33.418Z"
   },
   {
    "duration": 9,
    "start_time": "2025-04-27T07:50:06.214Z"
   },
   {
    "duration": 5,
    "start_time": "2025-04-27T07:52:36.950Z"
   },
   {
    "duration": 16,
    "start_time": "2025-04-27T07:54:21.636Z"
   },
   {
    "duration": 13,
    "start_time": "2025-04-27T07:54:33.032Z"
   },
   {
    "duration": 12,
    "start_time": "2025-04-27T07:54:45.828Z"
   },
   {
    "duration": 10,
    "start_time": "2025-04-27T07:55:01.388Z"
   },
   {
    "duration": 12,
    "start_time": "2025-04-27T07:55:38.182Z"
   },
   {
    "duration": 8,
    "start_time": "2025-04-27T07:57:28.062Z"
   },
   {
    "duration": 9,
    "start_time": "2025-04-27T07:58:00.344Z"
   },
   {
    "duration": 9,
    "start_time": "2025-04-27T07:58:52.911Z"
   },
   {
    "duration": 288,
    "start_time": "2025-04-27T07:59:10.464Z"
   },
   {
    "duration": 22,
    "start_time": "2025-04-27T07:59:23.162Z"
   },
   {
    "duration": 8,
    "start_time": "2025-04-27T07:59:29.728Z"
   },
   {
    "duration": 9,
    "start_time": "2025-04-27T08:00:32.539Z"
   },
   {
    "duration": 2,
    "start_time": "2025-04-27T08:00:32.551Z"
   },
   {
    "duration": 4,
    "start_time": "2025-04-27T08:00:32.555Z"
   },
   {
    "duration": 3,
    "start_time": "2025-04-27T08:00:32.561Z"
   },
   {
    "duration": 3,
    "start_time": "2025-04-27T08:00:32.566Z"
   },
   {
    "duration": 3,
    "start_time": "2025-04-27T08:00:32.571Z"
   },
   {
    "duration": 4,
    "start_time": "2025-04-27T08:00:32.575Z"
   },
   {
    "duration": 4,
    "start_time": "2025-04-27T08:00:32.580Z"
   },
   {
    "duration": 4,
    "start_time": "2025-04-27T08:00:32.585Z"
   },
   {
    "duration": 20,
    "start_time": "2025-04-27T08:01:18.608Z"
   },
   {
    "duration": 195,
    "start_time": "2025-04-27T08:05:27.846Z"
   },
   {
    "duration": 415,
    "start_time": "2025-04-27T08:05:53.429Z"
   },
   {
    "duration": 6,
    "start_time": "2025-04-27T08:06:16.659Z"
   },
   {
    "duration": 9,
    "start_time": "2025-04-27T08:06:21.961Z"
   },
   {
    "duration": 130,
    "start_time": "2025-04-27T08:06:38.874Z"
   },
   {
    "duration": 370,
    "start_time": "2025-04-27T08:11:45.656Z"
   },
   {
    "duration": 7,
    "start_time": "2025-04-27T08:11:51.113Z"
   },
   {
    "duration": 114,
    "start_time": "2025-04-27T08:12:32.937Z"
   },
   {
    "duration": 454,
    "start_time": "2025-04-27T08:13:48.010Z"
   },
   {
    "duration": 7,
    "start_time": "2025-04-27T08:13:51.490Z"
   },
   {
    "duration": 118,
    "start_time": "2025-04-27T08:13:53.939Z"
   },
   {
    "duration": 412,
    "start_time": "2025-04-27T08:15:03.826Z"
   },
   {
    "duration": 7,
    "start_time": "2025-04-27T08:15:08.222Z"
   },
   {
    "duration": 143,
    "start_time": "2025-04-27T08:15:10.971Z"
   },
   {
    "duration": 7,
    "start_time": "2025-04-27T08:19:22.655Z"
   },
   {
    "duration": 11,
    "start_time": "2025-04-27T08:21:47.636Z"
   },
   {
    "duration": 118,
    "start_time": "2025-04-27T08:23:42.056Z"
   },
   {
    "duration": 475,
    "start_time": "2025-04-27T08:25:01.875Z"
   },
   {
    "duration": 112,
    "start_time": "2025-04-27T09:43:24.886Z"
   },
   {
    "duration": 269,
    "start_time": "2025-04-27T09:46:17.362Z"
   },
   {
    "duration": 850,
    "start_time": "2025-04-27T10:09:53.380Z"
   },
   {
    "duration": 163,
    "start_time": "2025-04-27T10:09:54.233Z"
   },
   {
    "duration": 54,
    "start_time": "2025-04-27T10:09:54.398Z"
   },
   {
    "duration": 8,
    "start_time": "2025-04-27T10:09:54.454Z"
   },
   {
    "duration": 7,
    "start_time": "2025-04-27T10:09:54.465Z"
   },
   {
    "duration": 3,
    "start_time": "2025-04-27T10:09:54.473Z"
   },
   {
    "duration": 4,
    "start_time": "2025-04-27T10:09:54.478Z"
   },
   {
    "duration": 9,
    "start_time": "2025-04-27T10:09:54.484Z"
   },
   {
    "duration": 41,
    "start_time": "2025-04-27T10:09:54.495Z"
   },
   {
    "duration": 6,
    "start_time": "2025-04-27T10:09:54.538Z"
   },
   {
    "duration": 5,
    "start_time": "2025-04-27T10:09:54.545Z"
   },
   {
    "duration": 23,
    "start_time": "2025-04-27T10:09:54.551Z"
   },
   {
    "duration": 5,
    "start_time": "2025-04-27T10:09:54.576Z"
   },
   {
    "duration": 19,
    "start_time": "2025-04-27T10:09:54.585Z"
   },
   {
    "duration": 33,
    "start_time": "2025-04-27T10:09:54.606Z"
   },
   {
    "duration": 13,
    "start_time": "2025-04-27T10:09:54.641Z"
   },
   {
    "duration": 5,
    "start_time": "2025-04-27T10:09:54.656Z"
   },
   {
    "duration": 14,
    "start_time": "2025-04-27T10:09:54.663Z"
   },
   {
    "duration": 7,
    "start_time": "2025-04-27T10:09:54.678Z"
   },
   {
    "duration": 48,
    "start_time": "2025-04-27T10:09:54.686Z"
   },
   {
    "duration": 5,
    "start_time": "2025-04-27T10:09:54.736Z"
   },
   {
    "duration": 17,
    "start_time": "2025-04-27T10:09:54.742Z"
   },
   {
    "duration": 10,
    "start_time": "2025-04-27T10:09:54.761Z"
   },
   {
    "duration": 8,
    "start_time": "2025-04-27T10:09:54.773Z"
   },
   {
    "duration": 23,
    "start_time": "2025-04-27T10:09:54.783Z"
   },
   {
    "duration": 36,
    "start_time": "2025-04-27T10:09:54.807Z"
   },
   {
    "duration": 11,
    "start_time": "2025-04-27T10:09:54.846Z"
   },
   {
    "duration": 10,
    "start_time": "2025-04-27T10:09:54.859Z"
   },
   {
    "duration": 12,
    "start_time": "2025-04-27T10:09:54.871Z"
   },
   {
    "duration": 10,
    "start_time": "2025-04-27T10:09:54.885Z"
   },
   {
    "duration": 39,
    "start_time": "2025-04-27T10:09:54.897Z"
   },
   {
    "duration": 25,
    "start_time": "2025-04-27T10:09:54.939Z"
   },
   {
    "duration": 207,
    "start_time": "2025-04-27T10:09:54.968Z"
   },
   {
    "duration": 500,
    "start_time": "2025-04-27T10:09:55.176Z"
   },
   {
    "duration": 8,
    "start_time": "2025-04-27T10:09:55.678Z"
   },
   {
    "duration": 156,
    "start_time": "2025-04-27T10:09:55.689Z"
   },
   {
    "duration": 406,
    "start_time": "2025-04-27T10:09:55.847Z"
   },
   {
    "duration": 7,
    "start_time": "2025-04-27T10:09:56.255Z"
   },
   {
    "duration": 140,
    "start_time": "2025-04-27T10:09:56.264Z"
   },
   {
    "duration": 409,
    "start_time": "2025-04-27T10:09:56.407Z"
   },
   {
    "duration": 16,
    "start_time": "2025-04-27T10:09:56.820Z"
   },
   {
    "duration": 124,
    "start_time": "2025-04-27T10:09:56.840Z"
   },
   {
    "duration": 367,
    "start_time": "2025-04-27T10:09:56.966Z"
   },
   {
    "duration": 7,
    "start_time": "2025-04-27T10:09:57.335Z"
   },
   {
    "duration": 220,
    "start_time": "2025-04-27T10:09:57.345Z"
   },
   {
    "duration": 7,
    "start_time": "2025-04-27T10:09:57.566Z"
   },
   {
    "duration": 539,
    "start_time": "2025-04-27T10:09:57.574Z"
   },
   {
    "duration": 268,
    "start_time": "2025-04-27T10:09:58.115Z"
   },
   {
    "duration": 856,
    "start_time": "2025-04-28T11:03:21.753Z"
   },
   {
    "duration": 202,
    "start_time": "2025-04-28T11:03:22.610Z"
   },
   {
    "duration": 52,
    "start_time": "2025-04-28T11:03:22.813Z"
   },
   {
    "duration": 7,
    "start_time": "2025-04-28T11:03:22.867Z"
   },
   {
    "duration": 5,
    "start_time": "2025-04-28T11:03:22.876Z"
   },
   {
    "duration": 4,
    "start_time": "2025-04-28T11:03:22.882Z"
   },
   {
    "duration": 4,
    "start_time": "2025-04-28T11:03:22.888Z"
   },
   {
    "duration": 7,
    "start_time": "2025-04-28T11:03:22.894Z"
   },
   {
    "duration": 32,
    "start_time": "2025-04-28T11:03:22.903Z"
   },
   {
    "duration": 4,
    "start_time": "2025-04-28T11:03:22.938Z"
   },
   {
    "duration": 5,
    "start_time": "2025-04-28T11:03:22.943Z"
   },
   {
    "duration": 15,
    "start_time": "2025-04-28T11:03:22.949Z"
   },
   {
    "duration": 4,
    "start_time": "2025-04-28T11:03:22.966Z"
   },
   {
    "duration": 18,
    "start_time": "2025-04-28T11:03:22.971Z"
   },
   {
    "duration": 7,
    "start_time": "2025-04-28T11:03:22.991Z"
   },
   {
    "duration": 11,
    "start_time": "2025-04-28T11:03:23.031Z"
   },
   {
    "duration": 3,
    "start_time": "2025-04-28T11:03:23.044Z"
   },
   {
    "duration": 10,
    "start_time": "2025-04-28T11:03:23.049Z"
   },
   {
    "duration": 5,
    "start_time": "2025-04-28T11:03:23.061Z"
   },
   {
    "duration": 13,
    "start_time": "2025-04-28T11:03:23.067Z"
   },
   {
    "duration": 4,
    "start_time": "2025-04-28T11:03:23.082Z"
   },
   {
    "duration": 46,
    "start_time": "2025-04-28T11:03:23.087Z"
   },
   {
    "duration": 8,
    "start_time": "2025-04-28T11:03:23.135Z"
   },
   {
    "duration": 6,
    "start_time": "2025-04-28T11:03:23.144Z"
   },
   {
    "duration": 16,
    "start_time": "2025-04-28T11:03:23.152Z"
   },
   {
    "duration": 11,
    "start_time": "2025-04-28T11:03:23.170Z"
   },
   {
    "duration": 10,
    "start_time": "2025-04-28T11:03:23.183Z"
   },
   {
    "duration": 38,
    "start_time": "2025-04-28T11:03:23.197Z"
   },
   {
    "duration": 13,
    "start_time": "2025-04-28T11:03:23.236Z"
   },
   {
    "duration": 8,
    "start_time": "2025-04-28T11:03:23.250Z"
   },
   {
    "duration": 9,
    "start_time": "2025-04-28T11:03:23.259Z"
   },
   {
    "duration": 20,
    "start_time": "2025-04-28T11:03:23.270Z"
   },
   {
    "duration": 221,
    "start_time": "2025-04-28T11:03:23.292Z"
   },
   {
    "duration": 423,
    "start_time": "2025-04-28T11:03:23.515Z"
   },
   {
    "duration": 6,
    "start_time": "2025-04-28T11:03:23.940Z"
   },
   {
    "duration": 128,
    "start_time": "2025-04-28T11:03:23.948Z"
   },
   {
    "duration": 336,
    "start_time": "2025-04-28T11:03:24.078Z"
   },
   {
    "duration": 7,
    "start_time": "2025-04-28T11:03:24.416Z"
   },
   {
    "duration": 114,
    "start_time": "2025-04-28T11:03:24.432Z"
   },
   {
    "duration": 370,
    "start_time": "2025-04-28T11:03:24.549Z"
   },
   {
    "duration": 11,
    "start_time": "2025-04-28T11:03:24.920Z"
   },
   {
    "duration": 122,
    "start_time": "2025-04-28T11:03:24.932Z"
   },
   {
    "duration": 370,
    "start_time": "2025-04-28T11:03:25.056Z"
   },
   {
    "duration": 7,
    "start_time": "2025-04-28T11:03:25.428Z"
   },
   {
    "duration": 184,
    "start_time": "2025-04-28T11:03:25.436Z"
   },
   {
    "duration": 12,
    "start_time": "2025-04-28T11:03:25.622Z"
   },
   {
    "duration": 484,
    "start_time": "2025-04-28T11:03:25.635Z"
   },
   {
    "duration": 270,
    "start_time": "2025-04-28T11:03:26.121Z"
   },
   {
    "duration": 513,
    "start_time": "2025-04-28T11:13:24.694Z"
   },
   {
    "duration": 2574,
    "start_time": "2025-04-28T22:02:51.945Z"
   },
   {
    "duration": 218,
    "start_time": "2025-04-28T22:02:54.522Z"
   },
   {
    "duration": 53,
    "start_time": "2025-04-28T22:02:54.742Z"
   },
   {
    "duration": 8,
    "start_time": "2025-04-28T22:02:54.798Z"
   },
   {
    "duration": 4,
    "start_time": "2025-04-28T22:02:54.808Z"
   },
   {
    "duration": 18,
    "start_time": "2025-04-28T22:02:54.813Z"
   },
   {
    "duration": 4,
    "start_time": "2025-04-28T22:02:54.833Z"
   },
   {
    "duration": 8,
    "start_time": "2025-04-28T22:02:54.838Z"
   },
   {
    "duration": 5,
    "start_time": "2025-04-28T22:02:54.848Z"
   },
   {
    "duration": 5,
    "start_time": "2025-04-28T22:02:54.856Z"
   },
   {
    "duration": 5,
    "start_time": "2025-04-28T22:02:54.863Z"
   },
   {
    "duration": 15,
    "start_time": "2025-04-28T22:02:54.869Z"
   },
   {
    "duration": 4,
    "start_time": "2025-04-28T22:02:54.886Z"
   },
   {
    "duration": 54,
    "start_time": "2025-04-28T22:02:54.892Z"
   },
   {
    "duration": 7,
    "start_time": "2025-04-28T22:02:54.948Z"
   },
   {
    "duration": 12,
    "start_time": "2025-04-28T22:02:54.957Z"
   },
   {
    "duration": 4,
    "start_time": "2025-04-28T22:02:54.971Z"
   },
   {
    "duration": 10,
    "start_time": "2025-04-28T22:02:54.977Z"
   },
   {
    "duration": 5,
    "start_time": "2025-04-28T22:02:54.988Z"
   },
   {
    "duration": 42,
    "start_time": "2025-04-28T22:02:54.995Z"
   },
   {
    "duration": 4,
    "start_time": "2025-04-28T22:02:55.038Z"
   },
   {
    "duration": 15,
    "start_time": "2025-04-28T22:02:55.044Z"
   },
   {
    "duration": 14,
    "start_time": "2025-04-28T22:02:55.061Z"
   },
   {
    "duration": 5,
    "start_time": "2025-04-28T22:02:55.077Z"
   },
   {
    "duration": 14,
    "start_time": "2025-04-28T22:02:55.084Z"
   },
   {
    "duration": 12,
    "start_time": "2025-04-28T22:02:55.130Z"
   },
   {
    "duration": 9,
    "start_time": "2025-04-28T22:02:55.144Z"
   },
   {
    "duration": 412,
    "start_time": "2025-04-28T22:02:55.157Z"
   },
   {
    "duration": 0,
    "start_time": "2025-04-28T22:02:55.571Z"
   },
   {
    "duration": 0,
    "start_time": "2025-04-28T22:02:55.572Z"
   },
   {
    "duration": 0,
    "start_time": "2025-04-28T22:02:55.573Z"
   },
   {
    "duration": 0,
    "start_time": "2025-04-28T22:02:55.574Z"
   },
   {
    "duration": 0,
    "start_time": "2025-04-28T22:02:55.576Z"
   },
   {
    "duration": 0,
    "start_time": "2025-04-28T22:02:55.577Z"
   },
   {
    "duration": 0,
    "start_time": "2025-04-28T22:02:55.578Z"
   },
   {
    "duration": 0,
    "start_time": "2025-04-28T22:02:55.580Z"
   },
   {
    "duration": 0,
    "start_time": "2025-04-28T22:02:55.580Z"
   },
   {
    "duration": 0,
    "start_time": "2025-04-28T22:02:55.582Z"
   },
   {
    "duration": 0,
    "start_time": "2025-04-28T22:02:55.583Z"
   },
   {
    "duration": 0,
    "start_time": "2025-04-28T22:02:55.584Z"
   },
   {
    "duration": 0,
    "start_time": "2025-04-28T22:02:55.585Z"
   },
   {
    "duration": 0,
    "start_time": "2025-04-28T22:02:55.586Z"
   },
   {
    "duration": 0,
    "start_time": "2025-04-28T22:02:55.587Z"
   },
   {
    "duration": 0,
    "start_time": "2025-04-28T22:02:55.588Z"
   },
   {
    "duration": 0,
    "start_time": "2025-04-28T22:02:55.589Z"
   },
   {
    "duration": 0,
    "start_time": "2025-04-28T22:02:55.590Z"
   },
   {
    "duration": 0,
    "start_time": "2025-04-28T22:02:55.591Z"
   },
   {
    "duration": 0,
    "start_time": "2025-04-28T22:02:55.592Z"
   },
   {
    "duration": 853,
    "start_time": "2025-04-28T22:12:33.868Z"
   },
   {
    "duration": 162,
    "start_time": "2025-04-28T22:12:34.723Z"
   },
   {
    "duration": 51,
    "start_time": "2025-04-28T22:12:34.887Z"
   },
   {
    "duration": 8,
    "start_time": "2025-04-28T22:12:34.940Z"
   },
   {
    "duration": 4,
    "start_time": "2025-04-28T22:12:34.952Z"
   },
   {
    "duration": 3,
    "start_time": "2025-04-28T22:12:34.958Z"
   },
   {
    "duration": 4,
    "start_time": "2025-04-28T22:12:34.964Z"
   },
   {
    "duration": 8,
    "start_time": "2025-04-28T22:12:34.970Z"
   },
   {
    "duration": 5,
    "start_time": "2025-04-28T22:12:34.979Z"
   },
   {
    "duration": 5,
    "start_time": "2025-04-28T22:12:34.985Z"
   },
   {
    "duration": 42,
    "start_time": "2025-04-28T22:12:34.993Z"
   },
   {
    "duration": 15,
    "start_time": "2025-04-28T22:12:35.038Z"
   },
   {
    "duration": 4,
    "start_time": "2025-04-28T22:12:35.055Z"
   },
   {
    "duration": 17,
    "start_time": "2025-04-28T22:12:35.062Z"
   },
   {
    "duration": 8,
    "start_time": "2025-04-28T22:12:35.081Z"
   },
   {
    "duration": 43,
    "start_time": "2025-04-28T22:12:35.090Z"
   },
   {
    "duration": 5,
    "start_time": "2025-04-28T22:12:35.136Z"
   },
   {
    "duration": 10,
    "start_time": "2025-04-28T22:12:35.143Z"
   },
   {
    "duration": 5,
    "start_time": "2025-04-28T22:12:35.155Z"
   },
   {
    "duration": 13,
    "start_time": "2025-04-28T22:12:35.162Z"
   },
   {
    "duration": 4,
    "start_time": "2025-04-28T22:12:35.176Z"
   },
   {
    "duration": 13,
    "start_time": "2025-04-28T22:12:35.182Z"
   },
   {
    "duration": 46,
    "start_time": "2025-04-28T22:12:35.197Z"
   },
   {
    "duration": 5,
    "start_time": "2025-04-28T22:12:35.245Z"
   },
   {
    "duration": 14,
    "start_time": "2025-04-28T22:12:35.252Z"
   },
   {
    "duration": 11,
    "start_time": "2025-04-28T22:12:35.267Z"
   },
   {
    "duration": 10,
    "start_time": "2025-04-28T22:12:35.280Z"
   },
   {
    "duration": 408,
    "start_time": "2025-04-28T22:12:35.291Z"
   },
   {
    "duration": 0,
    "start_time": "2025-04-28T22:12:35.701Z"
   },
   {
    "duration": 0,
    "start_time": "2025-04-28T22:12:35.702Z"
   },
   {
    "duration": 0,
    "start_time": "2025-04-28T22:12:35.702Z"
   },
   {
    "duration": 0,
    "start_time": "2025-04-28T22:12:35.704Z"
   },
   {
    "duration": 0,
    "start_time": "2025-04-28T22:12:35.705Z"
   },
   {
    "duration": 0,
    "start_time": "2025-04-28T22:12:35.706Z"
   },
   {
    "duration": 0,
    "start_time": "2025-04-28T22:12:35.707Z"
   },
   {
    "duration": 0,
    "start_time": "2025-04-28T22:12:35.709Z"
   },
   {
    "duration": 0,
    "start_time": "2025-04-28T22:12:35.710Z"
   },
   {
    "duration": 0,
    "start_time": "2025-04-28T22:12:35.731Z"
   },
   {
    "duration": 0,
    "start_time": "2025-04-28T22:12:35.732Z"
   },
   {
    "duration": 0,
    "start_time": "2025-04-28T22:12:35.733Z"
   },
   {
    "duration": 0,
    "start_time": "2025-04-28T22:12:35.735Z"
   },
   {
    "duration": 0,
    "start_time": "2025-04-28T22:12:35.735Z"
   },
   {
    "duration": 0,
    "start_time": "2025-04-28T22:12:35.737Z"
   },
   {
    "duration": 0,
    "start_time": "2025-04-28T22:12:35.738Z"
   },
   {
    "duration": 0,
    "start_time": "2025-04-28T22:12:35.739Z"
   },
   {
    "duration": 0,
    "start_time": "2025-04-28T22:12:35.741Z"
   },
   {
    "duration": 0,
    "start_time": "2025-04-28T22:12:35.741Z"
   },
   {
    "duration": 0,
    "start_time": "2025-04-28T22:12:35.742Z"
   },
   {
    "duration": 797,
    "start_time": "2025-04-28T22:21:28.427Z"
   },
   {
    "duration": 158,
    "start_time": "2025-04-28T22:21:29.226Z"
   },
   {
    "duration": 58,
    "start_time": "2025-04-28T22:21:29.386Z"
   },
   {
    "duration": 10,
    "start_time": "2025-04-28T22:21:29.446Z"
   },
   {
    "duration": 5,
    "start_time": "2025-04-28T22:21:29.458Z"
   },
   {
    "duration": 4,
    "start_time": "2025-04-28T22:21:29.464Z"
   },
   {
    "duration": 5,
    "start_time": "2025-04-28T22:21:29.469Z"
   },
   {
    "duration": 8,
    "start_time": "2025-04-28T22:21:29.476Z"
   },
   {
    "duration": 6,
    "start_time": "2025-04-28T22:21:29.485Z"
   },
   {
    "duration": 6,
    "start_time": "2025-04-28T22:21:29.532Z"
   },
   {
    "duration": 4,
    "start_time": "2025-04-28T22:21:29.541Z"
   },
   {
    "duration": 16,
    "start_time": "2025-04-28T22:21:29.547Z"
   },
   {
    "duration": 6,
    "start_time": "2025-04-28T22:21:29.564Z"
   },
   {
    "duration": 24,
    "start_time": "2025-04-28T22:21:29.572Z"
   },
   {
    "duration": 34,
    "start_time": "2025-04-28T22:21:29.598Z"
   },
   {
    "duration": 11,
    "start_time": "2025-04-28T22:21:29.634Z"
   },
   {
    "duration": 4,
    "start_time": "2025-04-28T22:21:29.647Z"
   },
   {
    "duration": 11,
    "start_time": "2025-04-28T22:21:29.653Z"
   },
   {
    "duration": 6,
    "start_time": "2025-04-28T22:21:29.665Z"
   },
   {
    "duration": 16,
    "start_time": "2025-04-28T22:21:29.672Z"
   },
   {
    "duration": 5,
    "start_time": "2025-04-28T22:21:29.689Z"
   },
   {
    "duration": 14,
    "start_time": "2025-04-28T22:21:29.731Z"
   },
   {
    "duration": 16,
    "start_time": "2025-04-28T22:21:29.746Z"
   },
   {
    "duration": 5,
    "start_time": "2025-04-28T22:21:29.763Z"
   },
   {
    "duration": 14,
    "start_time": "2025-04-28T22:21:29.770Z"
   },
   {
    "duration": 12,
    "start_time": "2025-04-28T22:21:29.785Z"
   },
   {
    "duration": 35,
    "start_time": "2025-04-28T22:21:29.799Z"
   },
   {
    "duration": 10,
    "start_time": "2025-04-28T22:21:29.838Z"
   },
   {
    "duration": 870,
    "start_time": "2025-04-28T22:21:29.850Z"
   },
   {
    "duration": 0,
    "start_time": "2025-04-28T22:21:30.722Z"
   },
   {
    "duration": 0,
    "start_time": "2025-04-28T22:21:30.724Z"
   },
   {
    "duration": 0,
    "start_time": "2025-04-28T22:21:30.731Z"
   },
   {
    "duration": 0,
    "start_time": "2025-04-28T22:21:30.732Z"
   },
   {
    "duration": 0,
    "start_time": "2025-04-28T22:21:30.735Z"
   },
   {
    "duration": 0,
    "start_time": "2025-04-28T22:21:30.737Z"
   },
   {
    "duration": 0,
    "start_time": "2025-04-28T22:21:30.738Z"
   },
   {
    "duration": 0,
    "start_time": "2025-04-28T22:21:30.740Z"
   },
   {
    "duration": 0,
    "start_time": "2025-04-28T22:21:30.741Z"
   },
   {
    "duration": 0,
    "start_time": "2025-04-28T22:21:30.743Z"
   },
   {
    "duration": 0,
    "start_time": "2025-04-28T22:21:30.744Z"
   },
   {
    "duration": 0,
    "start_time": "2025-04-28T22:21:30.745Z"
   },
   {
    "duration": 0,
    "start_time": "2025-04-28T22:21:30.746Z"
   },
   {
    "duration": 0,
    "start_time": "2025-04-28T22:21:30.747Z"
   },
   {
    "duration": 0,
    "start_time": "2025-04-28T22:21:30.748Z"
   },
   {
    "duration": 0,
    "start_time": "2025-04-28T22:21:30.750Z"
   },
   {
    "duration": 0,
    "start_time": "2025-04-28T22:21:30.752Z"
   },
   {
    "duration": 0,
    "start_time": "2025-04-28T22:21:30.753Z"
   },
   {
    "duration": 0,
    "start_time": "2025-04-28T22:21:30.754Z"
   },
   {
    "duration": 791,
    "start_time": "2025-04-28T22:22:14.526Z"
   },
   {
    "duration": 158,
    "start_time": "2025-04-28T22:22:15.321Z"
   },
   {
    "duration": 54,
    "start_time": "2025-04-28T22:22:15.481Z"
   },
   {
    "duration": 7,
    "start_time": "2025-04-28T22:22:15.539Z"
   },
   {
    "duration": 5,
    "start_time": "2025-04-28T22:22:15.547Z"
   },
   {
    "duration": 5,
    "start_time": "2025-04-28T22:22:15.554Z"
   },
   {
    "duration": 4,
    "start_time": "2025-04-28T22:22:15.561Z"
   },
   {
    "duration": 8,
    "start_time": "2025-04-28T22:22:15.566Z"
   },
   {
    "duration": 5,
    "start_time": "2025-04-28T22:22:15.575Z"
   },
   {
    "duration": 4,
    "start_time": "2025-04-28T22:22:15.583Z"
   },
   {
    "duration": 42,
    "start_time": "2025-04-28T22:22:15.589Z"
   },
   {
    "duration": 16,
    "start_time": "2025-04-28T22:22:15.633Z"
   },
   {
    "duration": 5,
    "start_time": "2025-04-28T22:22:15.651Z"
   },
   {
    "duration": 18,
    "start_time": "2025-04-28T22:22:15.658Z"
   },
   {
    "duration": 7,
    "start_time": "2025-04-28T22:22:15.678Z"
   },
   {
    "duration": 11,
    "start_time": "2025-04-28T22:22:15.687Z"
   },
   {
    "duration": 32,
    "start_time": "2025-04-28T22:22:15.700Z"
   },
   {
    "duration": 11,
    "start_time": "2025-04-28T22:22:15.734Z"
   },
   {
    "duration": 6,
    "start_time": "2025-04-28T22:22:15.747Z"
   },
   {
    "duration": 14,
    "start_time": "2025-04-28T22:22:15.754Z"
   },
   {
    "duration": 4,
    "start_time": "2025-04-28T22:22:15.770Z"
   },
   {
    "duration": 12,
    "start_time": "2025-04-28T22:22:15.776Z"
   },
   {
    "duration": 48,
    "start_time": "2025-04-28T22:22:15.790Z"
   },
   {
    "duration": 5,
    "start_time": "2025-04-28T22:22:15.839Z"
   },
   {
    "duration": 15,
    "start_time": "2025-04-28T22:22:15.846Z"
   },
   {
    "duration": 12,
    "start_time": "2025-04-28T22:22:15.863Z"
   },
   {
    "duration": 9,
    "start_time": "2025-04-28T22:22:15.877Z"
   },
   {
    "duration": 8,
    "start_time": "2025-04-28T22:22:15.890Z"
   },
   {
    "duration": 865,
    "start_time": "2025-04-28T22:22:15.899Z"
   },
   {
    "duration": 0,
    "start_time": "2025-04-28T22:22:16.766Z"
   },
   {
    "duration": 0,
    "start_time": "2025-04-28T22:22:16.767Z"
   },
   {
    "duration": 0,
    "start_time": "2025-04-28T22:22:16.768Z"
   },
   {
    "duration": 0,
    "start_time": "2025-04-28T22:22:16.769Z"
   },
   {
    "duration": 0,
    "start_time": "2025-04-28T22:22:16.771Z"
   },
   {
    "duration": 0,
    "start_time": "2025-04-28T22:22:16.772Z"
   },
   {
    "duration": 0,
    "start_time": "2025-04-28T22:22:16.773Z"
   },
   {
    "duration": 0,
    "start_time": "2025-04-28T22:22:16.774Z"
   },
   {
    "duration": 0,
    "start_time": "2025-04-28T22:22:16.776Z"
   },
   {
    "duration": 0,
    "start_time": "2025-04-28T22:22:16.776Z"
   },
   {
    "duration": 0,
    "start_time": "2025-04-28T22:22:16.777Z"
   },
   {
    "duration": 0,
    "start_time": "2025-04-28T22:22:16.778Z"
   },
   {
    "duration": 0,
    "start_time": "2025-04-28T22:22:16.782Z"
   },
   {
    "duration": 0,
    "start_time": "2025-04-28T22:22:16.784Z"
   },
   {
    "duration": 0,
    "start_time": "2025-04-28T22:22:16.785Z"
   },
   {
    "duration": 0,
    "start_time": "2025-04-28T22:22:16.786Z"
   },
   {
    "duration": 0,
    "start_time": "2025-04-28T22:22:16.787Z"
   },
   {
    "duration": 0,
    "start_time": "2025-04-28T22:22:16.789Z"
   },
   {
    "duration": 0,
    "start_time": "2025-04-28T22:22:16.789Z"
   },
   {
    "duration": 130,
    "start_time": "2025-04-28T22:24:54.851Z"
   },
   {
    "duration": 897,
    "start_time": "2025-04-28T22:26:59.327Z"
   },
   {
    "duration": 166,
    "start_time": "2025-04-28T22:27:00.226Z"
   },
   {
    "duration": 68,
    "start_time": "2025-04-28T22:27:00.393Z"
   },
   {
    "duration": 9,
    "start_time": "2025-04-28T22:27:00.464Z"
   },
   {
    "duration": 5,
    "start_time": "2025-04-28T22:27:00.475Z"
   },
   {
    "duration": 3,
    "start_time": "2025-04-28T22:27:00.482Z"
   },
   {
    "duration": 5,
    "start_time": "2025-04-28T22:27:00.486Z"
   },
   {
    "duration": 9,
    "start_time": "2025-04-28T22:27:00.492Z"
   },
   {
    "duration": 35,
    "start_time": "2025-04-28T22:27:00.502Z"
   },
   {
    "duration": 6,
    "start_time": "2025-04-28T22:27:00.540Z"
   },
   {
    "duration": 5,
    "start_time": "2025-04-28T22:27:00.548Z"
   },
   {
    "duration": 16,
    "start_time": "2025-04-28T22:27:00.557Z"
   },
   {
    "duration": 5,
    "start_time": "2025-04-28T22:27:00.575Z"
   },
   {
    "duration": 55,
    "start_time": "2025-04-28T22:27:00.585Z"
   },
   {
    "duration": 8,
    "start_time": "2025-04-28T22:27:00.642Z"
   },
   {
    "duration": 12,
    "start_time": "2025-04-28T22:27:00.652Z"
   },
   {
    "duration": 5,
    "start_time": "2025-04-28T22:27:00.666Z"
   },
   {
    "duration": 11,
    "start_time": "2025-04-28T22:27:00.673Z"
   },
   {
    "duration": 6,
    "start_time": "2025-04-28T22:27:00.686Z"
   },
   {
    "duration": 49,
    "start_time": "2025-04-28T22:27:00.694Z"
   },
   {
    "duration": 5,
    "start_time": "2025-04-28T22:27:00.745Z"
   },
   {
    "duration": 15,
    "start_time": "2025-04-28T22:27:00.752Z"
   },
   {
    "duration": 15,
    "start_time": "2025-04-28T22:27:00.769Z"
   },
   {
    "duration": 5,
    "start_time": "2025-04-28T22:27:00.786Z"
   },
   {
    "duration": 48,
    "start_time": "2025-04-28T22:27:00.792Z"
   },
   {
    "duration": 13,
    "start_time": "2025-04-28T22:27:00.842Z"
   },
   {
    "duration": 10,
    "start_time": "2025-04-28T22:27:00.857Z"
   },
   {
    "duration": 10,
    "start_time": "2025-04-28T22:27:00.868Z"
   },
   {
    "duration": 15,
    "start_time": "2025-04-28T22:27:00.880Z"
   },
   {
    "duration": 38,
    "start_time": "2025-04-28T22:27:00.897Z"
   },
   {
    "duration": 10,
    "start_time": "2025-04-28T22:27:00.936Z"
   },
   {
    "duration": 21,
    "start_time": "2025-04-28T22:27:00.948Z"
   },
   {
    "duration": 215,
    "start_time": "2025-04-28T22:27:00.972Z"
   },
   {
    "duration": 462,
    "start_time": "2025-04-28T22:27:01.190Z"
   },
   {
    "duration": 8,
    "start_time": "2025-04-28T22:27:01.654Z"
   },
   {
    "duration": 124,
    "start_time": "2025-04-28T22:27:01.664Z"
   },
   {
    "duration": 360,
    "start_time": "2025-04-28T22:27:01.790Z"
   },
   {
    "duration": 8,
    "start_time": "2025-04-28T22:27:02.152Z"
   },
   {
    "duration": 133,
    "start_time": "2025-04-28T22:27:02.161Z"
   },
   {
    "duration": 376,
    "start_time": "2025-04-28T22:27:02.296Z"
   },
   {
    "duration": 8,
    "start_time": "2025-04-28T22:27:02.676Z"
   },
   {
    "duration": 139,
    "start_time": "2025-04-28T22:27:02.685Z"
   },
   {
    "duration": 411,
    "start_time": "2025-04-28T22:27:02.831Z"
   },
   {
    "duration": 8,
    "start_time": "2025-04-28T22:27:03.244Z"
   },
   {
    "duration": 130,
    "start_time": "2025-04-28T22:27:03.253Z"
   },
   {
    "duration": 7,
    "start_time": "2025-04-28T22:27:03.385Z"
   },
   {
    "duration": 648,
    "start_time": "2025-04-28T22:27:03.394Z"
   },
   {
    "duration": 301,
    "start_time": "2025-04-28T22:27:04.045Z"
   },
   {
    "duration": 828,
    "start_time": "2025-04-28T23:11:39.741Z"
   },
   {
    "duration": 167,
    "start_time": "2025-04-28T23:11:40.571Z"
   },
   {
    "duration": 56,
    "start_time": "2025-04-28T23:11:40.740Z"
   },
   {
    "duration": 9,
    "start_time": "2025-04-28T23:11:40.799Z"
   },
   {
    "duration": 6,
    "start_time": "2025-04-28T23:11:40.810Z"
   },
   {
    "duration": 3,
    "start_time": "2025-04-28T23:11:40.831Z"
   },
   {
    "duration": 4,
    "start_time": "2025-04-28T23:11:40.836Z"
   },
   {
    "duration": 8,
    "start_time": "2025-04-28T23:11:40.842Z"
   },
   {
    "duration": 5,
    "start_time": "2025-04-28T23:11:40.852Z"
   },
   {
    "duration": 4,
    "start_time": "2025-04-28T23:11:40.861Z"
   },
   {
    "duration": 4,
    "start_time": "2025-04-28T23:11:40.867Z"
   },
   {
    "duration": 15,
    "start_time": "2025-04-28T23:11:40.873Z"
   },
   {
    "duration": 45,
    "start_time": "2025-04-28T23:11:40.889Z"
   },
   {
    "duration": 18,
    "start_time": "2025-04-28T23:11:40.936Z"
   },
   {
    "duration": 7,
    "start_time": "2025-04-28T23:11:40.956Z"
   },
   {
    "duration": 11,
    "start_time": "2025-04-28T23:11:40.965Z"
   },
   {
    "duration": 4,
    "start_time": "2025-04-28T23:11:40.977Z"
   },
   {
    "duration": 9,
    "start_time": "2025-04-28T23:11:40.983Z"
   },
   {
    "duration": 38,
    "start_time": "2025-04-28T23:11:40.994Z"
   },
   {
    "duration": 13,
    "start_time": "2025-04-28T23:11:41.034Z"
   },
   {
    "duration": 4,
    "start_time": "2025-04-28T23:11:41.049Z"
   },
   {
    "duration": 13,
    "start_time": "2025-04-28T23:11:41.055Z"
   },
   {
    "duration": 14,
    "start_time": "2025-04-28T23:11:41.069Z"
   },
   {
    "duration": 5,
    "start_time": "2025-04-28T23:11:41.085Z"
   },
   {
    "duration": 47,
    "start_time": "2025-04-28T23:11:41.092Z"
   },
   {
    "duration": 12,
    "start_time": "2025-04-28T23:11:41.140Z"
   },
   {
    "duration": 10,
    "start_time": "2025-04-28T23:11:41.154Z"
   },
   {
    "duration": 9,
    "start_time": "2025-04-28T23:11:41.167Z"
   },
   {
    "duration": 15,
    "start_time": "2025-04-28T23:11:41.177Z"
   },
   {
    "duration": 7,
    "start_time": "2025-04-28T23:11:41.194Z"
   },
   {
    "duration": 34,
    "start_time": "2025-04-28T23:11:41.203Z"
   },
   {
    "duration": 21,
    "start_time": "2025-04-28T23:11:41.238Z"
   },
   {
    "duration": 202,
    "start_time": "2025-04-28T23:11:41.261Z"
   },
   {
    "duration": 459,
    "start_time": "2025-04-28T23:11:41.465Z"
   },
   {
    "duration": 7,
    "start_time": "2025-04-28T23:11:41.925Z"
   },
   {
    "duration": 132,
    "start_time": "2025-04-28T23:11:41.934Z"
   },
   {
    "duration": 340,
    "start_time": "2025-04-28T23:11:42.068Z"
   },
   {
    "duration": 6,
    "start_time": "2025-04-28T23:11:42.410Z"
   },
   {
    "duration": 122,
    "start_time": "2025-04-28T23:11:42.417Z"
   },
   {
    "duration": 385,
    "start_time": "2025-04-28T23:11:42.541Z"
   },
   {
    "duration": 6,
    "start_time": "2025-04-28T23:11:42.930Z"
   },
   {
    "duration": 123,
    "start_time": "2025-04-28T23:11:42.938Z"
   },
   {
    "duration": 366,
    "start_time": "2025-04-28T23:11:43.063Z"
   },
   {
    "duration": 6,
    "start_time": "2025-04-28T23:11:43.432Z"
   },
   {
    "duration": 126,
    "start_time": "2025-04-28T23:11:43.440Z"
   },
   {
    "duration": 6,
    "start_time": "2025-04-28T23:11:43.568Z"
   },
   {
    "duration": 558,
    "start_time": "2025-04-28T23:11:43.576Z"
   },
   {
    "duration": 282,
    "start_time": "2025-04-28T23:11:44.137Z"
   },
   {
    "duration": 899,
    "start_time": "2025-04-28T23:25:18.939Z"
   },
   {
    "duration": 161,
    "start_time": "2025-04-28T23:25:19.840Z"
   },
   {
    "duration": 51,
    "start_time": "2025-04-28T23:25:20.003Z"
   },
   {
    "duration": 7,
    "start_time": "2025-04-28T23:25:20.057Z"
   },
   {
    "duration": 6,
    "start_time": "2025-04-28T23:25:20.066Z"
   },
   {
    "duration": 3,
    "start_time": "2025-04-28T23:25:20.073Z"
   },
   {
    "duration": 4,
    "start_time": "2025-04-28T23:25:20.078Z"
   },
   {
    "duration": 8,
    "start_time": "2025-04-28T23:25:20.084Z"
   },
   {
    "duration": 5,
    "start_time": "2025-04-28T23:25:20.093Z"
   },
   {
    "duration": 7,
    "start_time": "2025-04-28T23:25:20.132Z"
   },
   {
    "duration": 4,
    "start_time": "2025-04-28T23:25:20.140Z"
   },
   {
    "duration": 16,
    "start_time": "2025-04-28T23:25:20.146Z"
   },
   {
    "duration": 4,
    "start_time": "2025-04-28T23:25:20.165Z"
   },
   {
    "duration": 17,
    "start_time": "2025-04-28T23:25:20.171Z"
   },
   {
    "duration": 7,
    "start_time": "2025-04-28T23:25:20.190Z"
   },
   {
    "duration": 38,
    "start_time": "2025-04-28T23:25:20.199Z"
   },
   {
    "duration": 6,
    "start_time": "2025-04-28T23:25:20.239Z"
   },
   {
    "duration": 11,
    "start_time": "2025-04-28T23:25:20.246Z"
   },
   {
    "duration": 6,
    "start_time": "2025-04-28T23:25:20.258Z"
   },
   {
    "duration": 12,
    "start_time": "2025-04-28T23:25:20.266Z"
   },
   {
    "duration": 4,
    "start_time": "2025-04-28T23:25:20.280Z"
   },
   {
    "duration": 46,
    "start_time": "2025-04-28T23:25:20.285Z"
   },
   {
    "duration": 20,
    "start_time": "2025-04-28T23:25:20.333Z"
   },
   {
    "duration": 7,
    "start_time": "2025-04-28T23:25:20.355Z"
   },
   {
    "duration": 17,
    "start_time": "2025-04-28T23:25:20.364Z"
   },
   {
    "duration": 12,
    "start_time": "2025-04-28T23:25:20.382Z"
   },
   {
    "duration": 40,
    "start_time": "2025-04-28T23:25:20.395Z"
   },
   {
    "duration": 9,
    "start_time": "2025-04-28T23:25:20.440Z"
   },
   {
    "duration": 14,
    "start_time": "2025-04-28T23:25:20.451Z"
   },
   {
    "duration": 8,
    "start_time": "2025-04-28T23:25:20.467Z"
   },
   {
    "duration": 9,
    "start_time": "2025-04-28T23:25:20.476Z"
   },
   {
    "duration": 18,
    "start_time": "2025-04-28T23:25:20.487Z"
   },
   {
    "duration": 219,
    "start_time": "2025-04-28T23:25:20.507Z"
   },
   {
    "duration": 475,
    "start_time": "2025-04-28T23:25:20.728Z"
   },
   {
    "duration": 7,
    "start_time": "2025-04-28T23:25:21.205Z"
   },
   {
    "duration": 120,
    "start_time": "2025-04-28T23:25:21.213Z"
   },
   {
    "duration": 376,
    "start_time": "2025-04-28T23:25:21.335Z"
   },
   {
    "duration": 6,
    "start_time": "2025-04-28T23:25:21.713Z"
   },
   {
    "duration": 116,
    "start_time": "2025-04-28T23:25:21.732Z"
   },
   {
    "duration": 372,
    "start_time": "2025-04-28T23:25:21.850Z"
   },
   {
    "duration": 10,
    "start_time": "2025-04-28T23:25:22.224Z"
   },
   {
    "duration": 121,
    "start_time": "2025-04-28T23:25:22.236Z"
   },
   {
    "duration": 355,
    "start_time": "2025-04-28T23:25:22.362Z"
   },
   {
    "duration": 13,
    "start_time": "2025-04-28T23:25:22.719Z"
   },
   {
    "duration": 121,
    "start_time": "2025-04-28T23:25:22.733Z"
   },
   {
    "duration": 7,
    "start_time": "2025-04-28T23:25:22.857Z"
   },
   {
    "duration": 564,
    "start_time": "2025-04-28T23:25:22.867Z"
   },
   {
    "duration": 278,
    "start_time": "2025-04-28T23:25:23.433Z"
   },
   {
    "duration": 865,
    "start_time": "2025-04-29T10:10:12.215Z"
   },
   {
    "duration": 216,
    "start_time": "2025-04-29T10:10:13.082Z"
   },
   {
    "duration": 53,
    "start_time": "2025-04-29T10:10:13.300Z"
   },
   {
    "duration": 7,
    "start_time": "2025-04-29T10:10:13.357Z"
   },
   {
    "duration": 5,
    "start_time": "2025-04-29T10:10:13.366Z"
   },
   {
    "duration": 17,
    "start_time": "2025-04-29T10:10:13.372Z"
   },
   {
    "duration": 4,
    "start_time": "2025-04-29T10:10:13.391Z"
   },
   {
    "duration": 8,
    "start_time": "2025-04-29T10:10:13.397Z"
   },
   {
    "duration": 6,
    "start_time": "2025-04-29T10:10:13.407Z"
   },
   {
    "duration": 6,
    "start_time": "2025-04-29T10:10:13.415Z"
   },
   {
    "duration": 5,
    "start_time": "2025-04-29T10:10:13.422Z"
   },
   {
    "duration": 15,
    "start_time": "2025-04-29T10:10:13.429Z"
   },
   {
    "duration": 4,
    "start_time": "2025-04-29T10:10:13.445Z"
   },
   {
    "duration": 51,
    "start_time": "2025-04-29T10:10:13.452Z"
   },
   {
    "duration": 7,
    "start_time": "2025-04-29T10:10:13.505Z"
   },
   {
    "duration": 12,
    "start_time": "2025-04-29T10:10:13.514Z"
   },
   {
    "duration": 4,
    "start_time": "2025-04-29T10:10:13.527Z"
   },
   {
    "duration": 11,
    "start_time": "2025-04-29T10:10:13.533Z"
   },
   {
    "duration": 42,
    "start_time": "2025-04-29T10:10:13.545Z"
   },
   {
    "duration": 13,
    "start_time": "2025-04-29T10:10:13.590Z"
   },
   {
    "duration": 4,
    "start_time": "2025-04-29T10:10:13.605Z"
   },
   {
    "duration": 13,
    "start_time": "2025-04-29T10:10:13.611Z"
   },
   {
    "duration": 15,
    "start_time": "2025-04-29T10:10:13.625Z"
   },
   {
    "duration": 5,
    "start_time": "2025-04-29T10:10:13.641Z"
   },
   {
    "duration": 47,
    "start_time": "2025-04-29T10:10:13.648Z"
   },
   {
    "duration": 13,
    "start_time": "2025-04-29T10:10:13.697Z"
   },
   {
    "duration": 10,
    "start_time": "2025-04-29T10:10:13.711Z"
   },
   {
    "duration": 10,
    "start_time": "2025-04-29T10:10:13.722Z"
   },
   {
    "duration": 15,
    "start_time": "2025-04-29T10:10:13.734Z"
   },
   {
    "duration": 7,
    "start_time": "2025-04-29T10:10:13.751Z"
   },
   {
    "duration": 11,
    "start_time": "2025-04-29T10:10:13.787Z"
   },
   {
    "duration": 21,
    "start_time": "2025-04-29T10:10:13.800Z"
   },
   {
    "duration": 212,
    "start_time": "2025-04-29T10:10:13.822Z"
   },
   {
    "duration": 429,
    "start_time": "2025-04-29T10:10:14.035Z"
   },
   {
    "duration": 7,
    "start_time": "2025-04-29T10:10:14.466Z"
   },
   {
    "duration": 138,
    "start_time": "2025-04-29T10:10:14.475Z"
   },
   {
    "duration": 356,
    "start_time": "2025-04-29T10:10:14.615Z"
   },
   {
    "duration": 13,
    "start_time": "2025-04-29T10:10:14.973Z"
   },
   {
    "duration": 122,
    "start_time": "2025-04-29T10:10:14.988Z"
   },
   {
    "duration": 366,
    "start_time": "2025-04-29T10:10:15.112Z"
   },
   {
    "duration": 6,
    "start_time": "2025-04-29T10:10:15.486Z"
   },
   {
    "duration": 132,
    "start_time": "2025-04-29T10:10:15.494Z"
   },
   {
    "duration": 360,
    "start_time": "2025-04-29T10:10:15.628Z"
   },
   {
    "duration": 7,
    "start_time": "2025-04-29T10:10:15.990Z"
   },
   {
    "duration": 127,
    "start_time": "2025-04-29T10:10:15.998Z"
   },
   {
    "duration": 7,
    "start_time": "2025-04-29T10:10:16.127Z"
   },
   {
    "duration": 640,
    "start_time": "2025-04-29T10:10:16.135Z"
   },
   {
    "duration": 284,
    "start_time": "2025-04-29T10:10:16.777Z"
   }
  ],
  "colab": {
   "provenance": []
  },
  "kernelspec": {
   "display_name": "Python [conda env:base] *",
   "language": "python",
   "name": "conda-base-py"
  },
  "language_info": {
   "codemirror_mode": {
    "name": "ipython",
    "version": 3
   },
   "file_extension": ".py",
   "mimetype": "text/x-python",
   "name": "python",
   "nbconvert_exporter": "python",
   "pygments_lexer": "ipython3",
   "version": "3.12.7"
  },
  "toc": {
   "base_numbering": 1,
   "nav_menu": {},
   "number_sections": true,
   "sideBar": true,
   "skip_h1_title": false,
   "title_cell": "Table of Contents",
   "title_sidebar": "Contents",
   "toc_cell": false,
   "toc_position": {},
   "toc_section_display": true,
   "toc_window_display": true
  }
 },
 "nbformat": 4,
 "nbformat_minor": 4
}
